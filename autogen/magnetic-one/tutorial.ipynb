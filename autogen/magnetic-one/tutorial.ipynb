{
 "cells": [
  {
   "cell_type": "code",
   "execution_count": 12,
   "id": "44201855-1be1-4b05-b1b0-3ff25a1ad8c8",
   "metadata": {},
   "outputs": [
    {
     "ename": "CancelledError",
     "evalue": "",
     "output_type": "error",
     "traceback": [
      "\u001b[0;31m---------------------------------------------------------------------------\u001b[0m",
      "\u001b[0;31mCancelledError\u001b[0m                            Traceback (most recent call last)",
      "Cell \u001b[0;32mIn[12], line 19\u001b[0m\n\u001b[1;32m     15\u001b[0m     team \u001b[38;5;241m=\u001b[39m MagenticOneGroupChat([assistant], model_client\u001b[38;5;241m=\u001b[39mmodel_client)\n\u001b[1;32m     16\u001b[0m     \u001b[38;5;28;01mawait\u001b[39;00m Console(team\u001b[38;5;241m.\u001b[39mrun_stream(task\u001b[38;5;241m=\u001b[39m\u001b[38;5;124m\"\u001b[39m\u001b[38;5;124mProvide a different proof for Fermat\u001b[39m\u001b[38;5;124m'\u001b[39m\u001b[38;5;124ms Last Theorem\u001b[39m\u001b[38;5;124m\"\u001b[39m))\n\u001b[0;32m---> 19\u001b[0m \u001b[38;5;28;01mawait\u001b[39;00m main()\n",
      "Cell \u001b[0;32mIn[12], line 16\u001b[0m, in \u001b[0;36mmain\u001b[0;34m()\u001b[0m\n\u001b[1;32m     11\u001b[0m assistant \u001b[38;5;241m=\u001b[39m AssistantAgent(\n\u001b[1;32m     12\u001b[0m     \u001b[38;5;124m\"\u001b[39m\u001b[38;5;124mAssistant\u001b[39m\u001b[38;5;124m\"\u001b[39m,\n\u001b[1;32m     13\u001b[0m     model_client\u001b[38;5;241m=\u001b[39mmodel_client,\n\u001b[1;32m     14\u001b[0m )\n\u001b[1;32m     15\u001b[0m team \u001b[38;5;241m=\u001b[39m MagenticOneGroupChat([assistant], model_client\u001b[38;5;241m=\u001b[39mmodel_client)\n\u001b[0;32m---> 16\u001b[0m \u001b[38;5;28;01mawait\u001b[39;00m Console(team\u001b[38;5;241m.\u001b[39mrun_stream(task\u001b[38;5;241m=\u001b[39m\u001b[38;5;124m\"\u001b[39m\u001b[38;5;124mProvide a different proof for Fermat\u001b[39m\u001b[38;5;124m'\u001b[39m\u001b[38;5;124ms Last Theorem\u001b[39m\u001b[38;5;124m\"\u001b[39m))\n",
      "File \u001b[0;32m~/Library/Caches/pypoetry/virtualenvs/autogen-hzN79qsh-py3.12/lib/python3.12/site-packages/autogen_agentchat/ui/_console.py:52\u001b[0m, in \u001b[0;36mConsole\u001b[0;34m(stream, no_inline_images, output_stats)\u001b[0m\n\u001b[1;32m     48\u001b[0m total_usage \u001b[38;5;241m=\u001b[39m RequestUsage(prompt_tokens\u001b[38;5;241m=\u001b[39m\u001b[38;5;241m0\u001b[39m, completion_tokens\u001b[38;5;241m=\u001b[39m\u001b[38;5;241m0\u001b[39m)\n\u001b[1;32m     50\u001b[0m last_processed: Optional[T] \u001b[38;5;241m=\u001b[39m \u001b[38;5;28;01mNone\u001b[39;00m\n\u001b[0;32m---> 52\u001b[0m \u001b[38;5;28;01masync\u001b[39;00m \u001b[38;5;28;01mfor\u001b[39;00m message \u001b[38;5;129;01min\u001b[39;00m stream:\n\u001b[1;32m     53\u001b[0m     \u001b[38;5;28;01mif\u001b[39;00m \u001b[38;5;28misinstance\u001b[39m(message, TaskResult):\n\u001b[1;32m     54\u001b[0m         duration \u001b[38;5;241m=\u001b[39m time\u001b[38;5;241m.\u001b[39mtime() \u001b[38;5;241m-\u001b[39m start_time\n",
      "File \u001b[0;32m~/Library/Caches/pypoetry/virtualenvs/autogen-hzN79qsh-py3.12/lib/python3.12/site-packages/autogen_agentchat/teams/_group_chat/_base_group_chat.py:417\u001b[0m, in \u001b[0;36mBaseGroupChat.run_stream\u001b[0;34m(self, task, cancellation_token)\u001b[0m\n\u001b[1;32m    415\u001b[0m     cancellation_token\u001b[38;5;241m.\u001b[39mlink_future(message_future)\n\u001b[1;32m    416\u001b[0m \u001b[38;5;66;03m# Wait for the next message, this will raise an exception if the task is cancelled.\u001b[39;00m\n\u001b[0;32m--> 417\u001b[0m message \u001b[38;5;241m=\u001b[39m \u001b[38;5;28;01mawait\u001b[39;00m message_future\n\u001b[1;32m    418\u001b[0m \u001b[38;5;28;01mif\u001b[39;00m message \u001b[38;5;129;01mis\u001b[39;00m \u001b[38;5;28;01mNone\u001b[39;00m:\n\u001b[1;32m    419\u001b[0m     \u001b[38;5;28;01mbreak\u001b[39;00m\n",
      "File \u001b[0;32m~/.asdf/installs/python/3.12.2/lib/python3.12/asyncio/queues.py:158\u001b[0m, in \u001b[0;36mQueue.get\u001b[0;34m(self)\u001b[0m\n\u001b[1;32m    156\u001b[0m \u001b[38;5;28mself\u001b[39m\u001b[38;5;241m.\u001b[39m_getters\u001b[38;5;241m.\u001b[39mappend(getter)\n\u001b[1;32m    157\u001b[0m \u001b[38;5;28;01mtry\u001b[39;00m:\n\u001b[0;32m--> 158\u001b[0m     \u001b[38;5;28;01mawait\u001b[39;00m getter\n\u001b[1;32m    159\u001b[0m \u001b[38;5;28;01mexcept\u001b[39;00m:\n\u001b[1;32m    160\u001b[0m     getter\u001b[38;5;241m.\u001b[39mcancel()  \u001b[38;5;66;03m# Just in case getter is not done yet.\u001b[39;00m\n",
      "\u001b[0;31mCancelledError\u001b[0m: "
     ]
    }
   ],
   "source": [
    "import asyncio\n",
    "from autogen_ext.models.openai import OpenAIChatCompletionClient\n",
    "from autogen_agentchat.agents import AssistantAgent\n",
    "from autogen_agentchat.teams import MagenticOneGroupChat\n",
    "from autogen_agentchat.ui import Console\n",
    "\n",
    "\n",
    "async def main() -> None:\n",
    "    model_client = OpenAIChatCompletionClient(model=\"gpt-4o\")\n",
    "\n",
    "    assistant = AssistantAgent(\n",
    "        \"Assistant\",\n",
    "        model_client=model_client,\n",
    "    )\n",
    "    team = MagenticOneGroupChat([assistant], model_client=model_client)\n",
    "    await Console(team.run_stream(task=\"Provide a different proof for Fermat's Last Theorem\"))\n",
    "\n",
    "\n",
    "await main()"
   ]
  }
 ],
 "metadata": {
  "kernelspec": {
   "display_name": "Python 3 (ipykernel)",
   "language": "python",
   "name": "python3"
  },
  "language_info": {
   "codemirror_mode": {
    "name": "ipython",
    "version": 3
   },
   "file_extension": ".py",
   "mimetype": "text/x-python",
   "name": "python",
   "nbconvert_exporter": "python",
   "pygments_lexer": "ipython3",
   "version": "3.12.2"
  }
 },
 "nbformat": 4,
 "nbformat_minor": 5
}
