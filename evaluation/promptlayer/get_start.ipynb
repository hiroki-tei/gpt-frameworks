{
 "cells": [
  {
   "cell_type": "markdown",
   "id": "de56c420",
   "metadata": {},
   "source": [
    "# Original tutorials\n",
    "https://docs.promptlayer.com/getting_started"
   ]
  },
  {
   "cell_type": "markdown",
   "id": "72529a03",
   "metadata": {},
   "source": [
    "## Simple request"
   ]
  },
  {
   "cell_type": "code",
   "execution_count": 19,
   "id": "cf279bb2-3554-46ec-8ed4-1cdd2ced12a2",
   "metadata": {},
   "outputs": [
    {
     "name": "stdout",
     "output_type": "stream",
     "text": [
      "[Choice(finish_reason='stop', index=0, logprobs=None, message=ChatCompletionMessage(content=\"In the heart of the night, whispers of the stars,\\nEcho through the darkness, lighting up the scars.\\nA melody of silence, sung by the moon,\\nIn the stillness of the hour, we find our tune.\\n\\nDreams dance on the edge of reality's embrace,\\nA fleeting glimpse of eternity's grace.\\nTime stands still in this enchanted space,\\nWhere the past and future interlace.\\n\\nThrough the veil of mystery, we chase the light,\\nGuided by the shadows of the night.\\nIn the symphony of our souls, we find release,\\nA timeless journey, bound by peace.\\n\\nSo let us wander through this endless night,\\nEmbracing the darkness, embracing the light.\\nFor in the quiet moments, we find our voice,\\nAnd in the poetry of the cosmos, we rejoice.\", role='assistant', function_call=None, tool_calls=None))]\n"
     ]
    }
   ],
   "source": [
    "from promptlayer import PromptLayer\n",
    "promptlayer_client = PromptLayer()\n",
    "\n",
    "OpenAI = promptlayer_client.openai.OpenAI\n",
    "client = OpenAI()\n",
    "\n",
    "completion = client.chat.completions.create(\n",
    "  model=\"gpt-3.5-turbo\",\n",
    "  messages=[\n",
    "    {\"role\": \"system\", \"content\": \"You are an AI.\"},\n",
    "    {\"role\": \"user\", \"content\": \"Compose a poem please.\"}\n",
    "  ],\n",
    "  pl_tags=[\"getting-started\"]\n",
    ")\n",
    "print(completion.choices)"
   ]
  },
  {
   "cell_type": "markdown",
   "id": "d2a3c099",
   "metadata": {},
   "source": [
    "Above request creates this result item in promptlayer management console.\n",
    "\n",
    "https://promptlayer.com/share/d42bd75c25ff737333bde51659743989"
   ]
  },
  {
   "cell_type": "markdown",
   "id": "05025990",
   "metadata": {},
   "source": [
    "## scoring"
   ]
  },
  {
   "cell_type": "code",
   "execution_count": 18,
   "id": "4d29f936",
   "metadata": {},
   "outputs": [
    {
     "name": "stdout",
     "output_type": "stream",
     "text": [
      "answer:  Albany.\n",
      "pl_request_id: 40297377\n"
     ]
    },
    {
     "data": {
      "text/plain": [
       "True"
      ]
     },
     "execution_count": 18,
     "metadata": {},
     "output_type": "execute_result"
    }
   ],
   "source": [
    "completion, pl_request_id = client.completions.create(\n",
    "  model=\"gpt-3.5-turbo-instruct\",\n",
    "  prompt=\"What is the capital of New York? \\\\n\\\\nThe capital of New York is\",\n",
    "  return_pl_id=True,\n",
    "  pl_tags=[\"getting-started-scoring\"]\n",
    ")\n",
    "\n",
    "answer = completion.choices[0].text\n",
    "print(f\"answer: {answer}\")\n",
    "correct_answer = \"albany\" in answer.lower()\n",
    "\n",
    "print(f\"pl_request_id: {pl_request_id}\")\n",
    "\n",
    "# Log score to 🍰 PromptLayer\n",
    "promptlayer_client.track.score(\n",
    "    request_id=pl_request_id,\n",
    "    score=100 if correct_answer else 0,\n",
    ")"
   ]
  },
  {
   "cell_type": "markdown",
   "id": "7ad9dc2c",
   "metadata": {},
   "source": [
    "Above request creates <a href=\"https://promptlayer.com/share/7ae48951c5a1b688448827f748a4baaa\" >this result item</a> which score number `100` is attached.\n",
    "\n",
    "<img src=\"../assets/doc/score_1.png\" width=\"600\"/>"
   ]
  }
 ],
 "metadata": {
  "kernelspec": {
   "display_name": "Python 3 (ipykernel)",
   "language": "python",
   "name": "python3"
  },
  "language_info": {
   "codemirror_mode": {
    "name": "ipython",
    "version": 3
   },
   "file_extension": ".py",
   "mimetype": "text/x-python",
   "name": "python",
   "nbconvert_exporter": "python",
   "pygments_lexer": "ipython3",
   "version": "3.12.3"
  }
 },
 "nbformat": 4,
 "nbformat_minor": 5
}
