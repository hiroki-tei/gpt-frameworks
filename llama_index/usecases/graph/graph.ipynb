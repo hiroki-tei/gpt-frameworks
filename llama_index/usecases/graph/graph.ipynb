{
 "cells": [
  {
   "cell_type": "markdown",
   "metadata": {},
   "source": [
    "!! warning\n",
    "\n",
    "property graph cannot be used in notebook cause following error occurs.\n",
    "\n",
    "```\n",
    "RuntimeError: asyncio.run() cannot be called from a running event loop\n",
    "```\n",
    "\n",
    "So this ipynb file is currently not working.\n",
    "Try py file instead.\n"
   ]
  },
  {
   "cell_type": "code",
   "execution_count": 1,
   "metadata": {},
   "outputs": [
    {
     "name": "stdout",
     "output_type": "stream",
     "text": [
      "Requirement already satisfied: langfuse in ./.venv/lib/python3.12/site-packages (2.39.2)\n",
      "Requirement already satisfied: anyio<5.0.0,>=4.4.0 in ./.venv/lib/python3.12/site-packages (from langfuse) (4.4.0)\n",
      "Requirement already satisfied: backoff>=1.10.0 in ./.venv/lib/python3.12/site-packages (from langfuse) (2.2.1)\n",
      "Requirement already satisfied: httpx<1.0,>=0.15.4 in ./.venv/lib/python3.12/site-packages (from langfuse) (0.27.0)\n",
      "Requirement already satisfied: idna<4.0,>=3.7 in ./.venv/lib/python3.12/site-packages (from langfuse) (3.7)\n",
      "Collecting packaging<24.0,>=23.2 (from langfuse)\n",
      "  Using cached packaging-23.2-py3-none-any.whl.metadata (3.2 kB)\n",
      "Requirement already satisfied: pydantic<3.0,>=1.10.7 in ./.venv/lib/python3.12/site-packages (from langfuse) (2.8.2)\n",
      "Requirement already satisfied: wrapt<2.0,>=1.14 in ./.venv/lib/python3.12/site-packages (from langfuse) (1.16.0)\n",
      "Requirement already satisfied: sniffio>=1.1 in ./.venv/lib/python3.12/site-packages (from anyio<5.0.0,>=4.4.0->langfuse) (1.3.1)\n",
      "Requirement already satisfied: certifi in ./.venv/lib/python3.12/site-packages (from httpx<1.0,>=0.15.4->langfuse) (2024.7.4)\n",
      "Requirement already satisfied: httpcore==1.* in ./.venv/lib/python3.12/site-packages (from httpx<1.0,>=0.15.4->langfuse) (1.0.5)\n",
      "Requirement already satisfied: h11<0.15,>=0.13 in ./.venv/lib/python3.12/site-packages (from httpcore==1.*->httpx<1.0,>=0.15.4->langfuse) (0.14.0)\n",
      "Requirement already satisfied: annotated-types>=0.4.0 in ./.venv/lib/python3.12/site-packages (from pydantic<3.0,>=1.10.7->langfuse) (0.7.0)\n",
      "Requirement already satisfied: pydantic-core==2.20.1 in ./.venv/lib/python3.12/site-packages (from pydantic<3.0,>=1.10.7->langfuse) (2.20.1)\n",
      "Requirement already satisfied: typing-extensions>=4.6.1 in ./.venv/lib/python3.12/site-packages (from pydantic<3.0,>=1.10.7->langfuse) (4.12.2)\n",
      "Using cached packaging-23.2-py3-none-any.whl (53 kB)\n",
      "Installing collected packages: packaging\n",
      "  Attempting uninstall: packaging\n",
      "    Found existing installation: packaging 24.1\n",
      "    Uninstalling packaging-24.1:\n",
      "      Successfully uninstalled packaging-24.1\n",
      "Successfully installed packaging-23.2\n",
      "Note: you may need to restart the kernel to use updated packages.\n"
     ]
    }
   ],
   "source": [
    "%pip install langfuse\n",
    "\n",
    "from llama_index.core import Settings\n",
    "from llama_index.core.callbacks import CallbackManager\n",
    "from langfuse.llama_index import LlamaIndexCallbackHandler\n",
    "\n",
    "langfuse_callback_manager = LlamaIndexCallbackHandler()\n",
    "Settings.callback_manager = CallbackManager([langfuse_callback_manager])"
   ]
  },
  {
   "cell_type": "markdown",
   "metadata": {},
   "source": [
    "# Construction"
   ]
  },
  {
   "cell_type": "markdown",
   "metadata": {},
   "source": [
    "## SchemaLLMPathExtractor\n",
    "\n",
    "here's links for sample code\n",
    "* [llama_index: Using a Property Graph Index](https://docs.llamaindex.ai/en/stable/module_guides/indexing/lpg_index_guide/)\n"
   ]
  },
  {
   "cell_type": "code",
   "execution_count": 4,
   "metadata": {},
   "outputs": [
    {
     "name": "stderr",
     "output_type": "stream",
     "text": [
      "An error occurred in _handle_span_events: not enough values to unpack (expected 2, got 1)\n",
      "Traceback (most recent call last):\n",
      "  File \"/Users/teihiroki/Repository/private/gpt-frameworks/llama_index/.venv/lib/python3.12/site-packages/llama_index/core/callbacks/base.py\", line 198, in as_trace\n",
      "    yield\n",
      "  File \"/Users/teihiroki/Repository/private/gpt-frameworks/llama_index/.venv/lib/python3.12/site-packages/llama_index/core/indices/base.py\", line 145, in from_documents\n",
      "    return cls(\n",
      "           ^^^^\n",
      "  File \"/Users/teihiroki/Repository/private/gpt-frameworks/llama_index/.venv/lib/python3.12/site-packages/llama_index/core/indices/property_graph/base.py\", line 134, in __init__\n",
      "    super().__init__(\n",
      "  File \"/Users/teihiroki/Repository/private/gpt-frameworks/llama_index/.venv/lib/python3.12/site-packages/llama_index/core/indices/base.py\", line 94, in __init__\n",
      "    index_struct = self.build_index_from_nodes(\n",
      "                   ^^^^^^^^^^^^^^^^^^^^^^^^^^^^\n",
      "  File \"/Users/teihiroki/Repository/private/gpt-frameworks/llama_index/.venv/lib/python3.12/site-packages/llama_index/core/indices/base.py\", line 216, in build_index_from_nodes\n",
      "    return self._build_index_from_nodes(nodes, **build_kwargs)\n",
      "           ^^^^^^^^^^^^^^^^^^^^^^^^^^^^^^^^^^^^^^^^^^^^^^^^^^^\n",
      "  File \"/Users/teihiroki/Repository/private/gpt-frameworks/llama_index/.venv/lib/python3.12/site-packages/llama_index/core/indices/property_graph/base.py\", line 328, in _build_index_from_nodes\n",
      "    nodes = self._insert_nodes(nodes or [])\n",
      "            ^^^^^^^^^^^^^^^^^^^^^^^^^^^^^^^\n",
      "  File \"/Users/teihiroki/Repository/private/gpt-frameworks/llama_index/.venv/lib/python3.12/site-packages/llama_index/core/indices/property_graph/base.py\", line 198, in _insert_nodes\n",
      "    nodes = asyncio.run(\n",
      "            ^^^^^^^^^^^^\n",
      "  File \"/Users/teihiroki/.asdf/installs/python/3.12.2/lib/python3.12/asyncio/runners.py\", line 190, in run\n",
      "    raise RuntimeError(\n",
      "RuntimeError: asyncio.run() cannot be called from a running event loop\n",
      "\n",
      "During handling of the above exception, another exception occurred:\n",
      "\n",
      "Traceback (most recent call last):\n",
      "  File \"/Users/teihiroki/Repository/private/gpt-frameworks/llama_index/.venv/lib/python3.12/site-packages/langfuse/utils/error_logging.py\", line 14, in wrapper\n",
      "    return func(*args, **kwargs)\n",
      "           ^^^^^^^^^^^^^^^^^^^^^\n",
      "  File \"/Users/teihiroki/Repository/private/gpt-frameworks/llama_index/.venv/lib/python3.12/site-packages/langfuse/llama_index/llama_index.py\", line 532, in _handle_span_events\n",
      "    start_event, end_event = self.event_map[event_id]\n",
      "    ^^^^^^^^^^^^^^^^^^^^^^\n",
      "ValueError: not enough values to unpack (expected 2, got 1)\n"
     ]
    },
    {
     "name": "stdout",
     "output_type": "stream",
     "text": [
      "[Document(id_='95cb3f28-c688-4f51-bf8b-a30564b413eb', embedding=None, metadata={'file_path': '/Users/teihiroki/Repository/private/gpt-frameworks/llama_index/data/interest/mbti/INFJ.txt', 'file_name': 'INFJ.txt', 'file_type': 'text/plain', 'file_size': 3947, 'creation_date': '2024-05-13', 'last_modified_date': '2024-05-13'}, excluded_embed_metadata_keys=['file_name', 'file_type', 'file_size', 'creation_date', 'last_modified_date', 'last_accessed_date'], excluded_llm_metadata_keys=['file_name', 'file_type', 'file_size', 'creation_date', 'last_modified_date', 'last_accessed_date'], relationships={}, text='INFJ\\u3000信念を持った理想家\\nやや頑固ではありますか、自分の理想を叶えたい、誰かの役に立ちたいという強い願望を持っています。相手の感情や関心を理解するのが得意で、周囲の人間全員の利益を考えます。表立って人を引っ張っていく事は少ないものの、目立たない所で影響を与える事が多いタイプです。\\n\\n何よりも自分の価値観を重視しており、世間一般の定説を気にしません。批判されたり忠告されても、そう簡単には意見を変えません。控えめながら押しが強く、自分の意見を受け入れてもらうためにはゴリ押しも辞さない事があります。ただ権威を押し付けたり、論破しようとするよりも、相手を認めたり褒めたりする事で協力を得ようとします。\\n\\nじっくり考えた上で決断を下し、トラブルが起きると逆に奮起します。いろいろな事に同時に取り組むのではなく、１つの事をじっくりやるのを好みます。そして創造性と洞察力に優れるので、物事の深い所にある意味を読み取ったり、新しいアイデアを考えるのが得意です。\\n\\n複雑で豊かな内面を持っていますが、自分の考えを親しい人にしか伝えず、比喩や複雑な表現を好むので、よく分からない人と思われる事が多くあります。\\n全タイプ中、最も直感力に優れており、その傾向が極端な場合、他人の考えている事や、良い点、悪い点などを瞬時に察知してしまうがあります。 著名な霊能者や宗教家には、このタイプが多いと考えられます。\\n\\n多くのINFJ型は有能ですが、いくつか苦手な事があります。\\nまず独創的なアイデアは浮かぶのですが、それを実行に移す過程を楽しむのが苦手です。繊細過ぎるところがあり、他人からの批判で簡単に傷ついてしまいます。また物事の全体像を把握するのが得意な反面、細々とした事実は軽視する傾向があります。そして自分のアイデアに自信を持ちすぎており、柔軟さを欠き頑固です。\\n\\n \\n\\n◆以下の状況で、動揺したり嫌悪感を覚えます\\n・自分が一人になれる空間がなくなったときや、解決できていない人間関係の問題があるとき。\\n・理想や夢がうまくいかず、立場を守れなくなった時。\\n◆不満を感じると、次のような行動を起こします\\n・決定に用いた情報を他者に教えず、独断的な印象を与える\\n・少ない情報しかないのに、現実に則していない「わかった」という印象だけで判断する\\n・怒りっぽく、批判的になる\\n\\n◆大きなストレスを感じると・・・\\n普段なら気にもとめない事にこだわったり、テレビの再放送、過食、衝動買いなどの活動に溺れる事があります。\\n◆16種類の性格のうち、人口に占める割合（アメリカの統計）\\n１～３％\\n\\n◆アドバイス\\nもっと他人のアイデアを受け入れるようにしましょう。\\n実際にやる事は、熟考するのと同じぐらい大切です。\\n真面目に考えすぎず、日常生活を気楽に楽しみましょう。\\n\\n◆反対の性格型\\nESTP\\n\\n\\n\\n\\n同じ性格型の可能性がある有名人（独断と偏見による選定）\\nマザーテレサ\\nマハトマ・ガンディー\\n麻原彰晃\\nネルソン・マンデラ\\nキング牧師\\nゲーテ\\nジミー・カーター\\nJ・K・ローリング\\n緋村剣心（るろうに剣心）\\n碇シンジ（エヴァンゲリオン）\\nシュルク（ゼノブレイド）\\nナナリー・ランペルージ(コードギアス)\\nエルヴィン・スミス（進撃の巨人）\\n仙水忍（幽遊白書）\\n', mimetype='text/plain', start_char_idx=None, end_char_idx=None, text_template='{metadata_str}\\n\\n{content}', metadata_template='{key}: {value}', metadata_seperator='\\n'), Document(id_='3c0fb566-1e2d-418b-8dc6-22780a0e025d', embedding=None, metadata={'file_path': '/Users/teihiroki/Repository/private/gpt-frameworks/llama_index/data/interest/mbti/INFP.txt', 'file_name': 'INFP.txt', 'file_type': 'text/plain', 'file_size': 4243, 'creation_date': '2024-05-13', 'last_modified_date': '2024-05-13'}, excluded_embed_metadata_keys=['file_name', 'file_type', 'file_size', 'creation_date', 'last_modified_date', 'last_accessed_date'], excluded_llm_metadata_keys=['file_name', 'file_type', 'file_size', 'creation_date', 'last_modified_date', 'last_accessed_date'], relationships={}, text='INFP 人生の意味を追い求める者\\n心の調和を大切にし、自分の価値観にあった生き方を追求する理想主義者です。\\n\\n想像力豊かで偏見がなく、好奇心旺盛。洞察力に優れ、長い目で物事を見ることができます。夢や理想に懸命に取り組むほか、芸術や新しい概念に惹かれます。\\n\\nものごとを一気にやり遂げる傾向があり、自分が打ち込んでいる事に深く集中し、大きな成果をあげます。また言葉で語るより、文章で表現するのが得意です。一方であまり意味が感じられない作業や、単純作業の繰り返しは嫌いです。\\n\\n\\n控えめで、自分の気持を打ち明ける相手を慎重に選びます。そのため周りからは、よそよそしい、無口で内気などと見られる事があります。しかし本当は誠意があり、とても思いやり深い人間です。\\n\\n人の感情を敏感に感じ取って心から共感し、相手の事を深く理解しようとします。表面上のつきあいは好きではありませんが、自分の価値観を時間をかけて理解してくれる人は、宝物のように大切にします。\\n\\n人を支配したり威圧したいとは考えず、所有物や物理的な環境にも、あまり関心を払いません。ところが自分の理想や信念が脅かされると、とたんに周囲に合わせることを止めます。そして普段は考えられないぐらい激しく、自らの価値判断を訴えかけます。\\n\\nINFPの理想に向かって努力する所は美点ですが、問題もあります。\\n理想を追い求めるあまり、時に実現不可能なほど高い目標を自分に課してしまいます。その結果、無力感と激しいストレスに襲われる事があります。また感受性が強いので、相手が批判的に言ったつもりでない事にも傷つきます。そして相手と話し合いをする事なく、怒りと悲しみを自分の中に押し込み、その人とはつき合わないようにして処理してしまいます。全性格中、最も根に持ちやすい傾向があるので注意が必要です。\\n\\n\\n◆以下の状況で、動揺したり嫌悪感を覚えます\\n・思いやりに欠けると言われたり、自分の動機が疑われ怒りっぽいと見られた時。\\n・人間関係のあり方を疑われた時。\\n・内面にしまっている価値観が侵害された時。\\n◆不満を感じると、次のような行動を起こします\\n・普段とうってかわって、自分の気持や考えを言葉に表せなくなる\\n・周囲の人や状況との接触をやめる\\n・自分の大切な価値観について、他者に話そうとしなくなる\\n◆大きなストレスを感じると・・・\\n自分や他者の能力を真剣に疑い始め、過度に批判的になったり、ものごとを決めつけて考える事があります。\\n◆16種類の性格のうち、人口に占める割合（アメリカの統計）\\n４～５％\\n\\n◆アドバイス\\n具体的、かつ論理的で批評的な分析は、問題解決にとても役立ちます。\\nまた人間に対してもう少し寛容になり、思い込みを持たないようにしましょう。\\n\\n◆反対の性格型\\nESTJ\\n\\n\\n\\n\\n同じ性格型の可能性がある有名人（独断と偏見による選定）\\nマリア(イエスキリストの母)\\n坂本龍馬\\nシェイクスピア\\nヘレンケラー\\nJ・R・R・トールキン（指輪物語の作者）\\n綾瀬はるか\\nダイアナ王太子妃\\n野比のび太（ドラえもん）\\nアン（赤毛のアン）\\nルーク・スカイウォーカー（スターウォーズ）\\nアルフォンス・エルリック（鋼の錬金術師）\\nつかさ（.hack//SIGN）\\nクラウス・ヴァルカ（ラストエグザイル）\\nキョン（涼宮ハルヒ）\\n鹿目まどか（魔法少女まどかマギカ）\\n五十鈴 華（ガールズ＆パンツァー）\\nアルミン・アルレルト（進撃の巨人）\\nコニー・スプリンガー（進撃の巨人）\\nシモン（天元突破グレンラガン）\\n雪菜（幽遊白書）\\n', mimetype='text/plain', start_char_idx=None, end_char_idx=None, text_template='{metadata_str}\\n\\n{content}', metadata_template='{key}: {value}', metadata_seperator='\\n'), Document(id_='eff01d2a-d85e-41e2-9901-5be38ace7f3e', embedding=None, metadata={'file_path': '/Users/teihiroki/Repository/private/gpt-frameworks/llama_index/data/interest/mbti/INTJ.txt', 'file_name': 'INTJ.txt', 'file_type': 'text/plain', 'file_size': 4982, 'creation_date': '2024-05-13', 'last_modified_date': '2024-05-13'}, excluded_embed_metadata_keys=['file_name', 'file_type', 'file_size', 'creation_date', 'last_modified_date', 'last_accessed_date'], excluded_llm_metadata_keys=['file_name', 'file_type', 'file_size', 'creation_date', 'last_modified_date', 'last_accessed_date'], relationships={}, text='INTJ\\u3000アイデアマン\\n独創的な完璧主義者です。独自のアイデアや仕組みを考え、高い目標に向かって邁進します。他人から批判されたり無関心な態度をとられても、他のタイプほどは気にしません。「我が道を往く」を体現したかのような性格です。\\n\\n凝り性で何でも完璧したいので、仕事でも遊びでも、もっと良い方法があるはずだと改善策を考えます。自分自身を向上させるのも好きで、知識の習得に熱心です。\\n\\n理論肌で、感情より理性を信頼しています。また戦略的思考も得意で、長期的展望や物事の裏側を予測します。アイデアが役に立つかは事前によく検討するものの、一度着想を得ると、１つの目標に向けて突っ走る傾向があります。\\n高い目標を掲げるうえに、凝り性、そして長期的な視点も持ち合わせているため、大きな成果を達成する事もあります。\\n\\n\\n自分のアイデアに自信を持っていますが、他者の考えや意見の方が筋が通っていると思えば、乗り換えます。しかし納得ができなければ、社会の常識とされているものであっても受け入れません。\\n\\nふっと考え事の世界に行ってしまい、周りを見ていない事が多いので、事故にあったり、服を前後逆に着たまま出かけないように注意が必要です。\\n\\n社交的な会話は苦手で、一人でいる事を好み、あまり感情を表には出しません。また他人に対しても、自分が頑張るのと同じぐらい頑張らせようとしたり、他人の望みや意見を無視する傾向があるため、冷たく、よそよそしい人と思われる場合があります。しかし、自分が好きな人や信頼している人からの拒絶は恐れており、感情的に傷つきやすい面もあります。\\n\\n優れた長所を持つINTJ型ですが、諸刃の剣というべき欠点も持ち合わせています。\\nまず高い目標に向かって努力するのが当然だと思っているので、他人にも目標達成を求めますが、どれぐらい苦労するかなどお構いなしで自分の基準で判断します（そもそも他人に期待しない事もある）。他人の批判を気にしないのはタフだと言えますが、それが災いして人の意見を深く考慮せずに跳ねつける事もあります。さらに細かい事実を見落としがちなので、せっかく考えたアイデアが非現実的な物になっている事があります。\\n\\n\\n◆以下の状況で、動揺したり嫌悪感を覚えます\\n・自律性が損なわれた時や、知的な発達の意義が低く評価された時。\\n・理想や夢がうまくいかず、立場を守れなくなった時。\\n◆不満を感じると、次のような行動を起こします\\n・自分の考えの過程を十分に説明せず唐突な印象を与える\\n・自分のビジョンをすぐに理解しない人を批判する\\n・考えを曲げなくなる\\n◆大きなストレスを感じると・・・\\nテレビの再放送やゲーム、過食などに溺れたり、普段は重視しない些細な事に必要以上に拘る事があります。\\n◆16種類の性格のうち、人口に占める割合（アメリカの統計）\\n２～４％\\n\\n◆アドバイス\\n論理的な分析は万能ではありません。ときに好意的な態度をとる方が、人の考えを効果的に変えられます。もっと人の感情を思いやり、感謝の言葉を忘れないようにしましょう。\\n\\n◆反対の性格型\\nESFP\\n\\n\\n\\n\\n同じ性格型の可能性がある有名人（独断と偏見による選定）\\n徳川家康\\nホーキング博士（物理学者）\\nジョンF.ケネディ\\nヒラリー・クリントン\\nウッドロー・ウィルソン\\nドワイト・D・アイゼンハワー\\nCSルイス（ナルニア国物語の作者）\\nハンムラビ（古代バビロニア国王）\\nハンニバル（古代カルタゴの指導者）\\nアウグストゥス（ローマ帝国初代皇帝）\\n三年寝太郎（昔話）\\nオーキド博士（ポケモン）\\n夜神月（デスノート）\\nダース・シディアス（スターウォーズ）\\nガンダルフ（指輪物語）\\nエドワード・エルリック（鋼の錬金術師）\\nイギリス（ヘタリア）\\nキノ（キノの旅）\\nイルパラッツォ（エクセルサーガ）\\n古泉 一樹（涼宮ハルヒ）\\nロビン（ONE PIECE）\\nうちはサスケ(NARUTO)\\nルルーシュ・ランペルージ(コードギアス)\\nルシウス・モデストゥス（テルマエ・ロマエ）\\nアニ・レオンハート（進撃の巨人）\\nユミル（進撃の巨人）\\nリヴァイ・アッカーマン（進撃の巨人）\\nクラピカ（HunterxHunter）\\n蔵馬（幽遊白書）\\n', mimetype='text/plain', start_char_idx=None, end_char_idx=None, text_template='{metadata_str}\\n\\n{content}', metadata_template='{key}: {value}', metadata_seperator='\\n'), Document(id_='abb023fc-3aef-450e-aa5e-9ab798ac5084', embedding=None, metadata={'file_path': '/Users/teihiroki/Repository/private/gpt-frameworks/llama_index/data/interest/mbti/INTP.txt', 'file_name': 'INTP.txt', 'file_type': 'text/plain', 'file_size': 4121, 'creation_date': '2024-05-13', 'last_modified_date': '2024-05-13'}, excluded_embed_metadata_keys=['file_name', 'file_type', 'file_size', 'creation_date', 'last_modified_date', 'last_accessed_date'], excluded_llm_metadata_keys=['file_name', 'file_type', 'file_size', 'creation_date', 'last_modified_date', 'last_accessed_date'], relationships={}, text='一見物静かでぼーっとしていますが、頭の中では常に思考をこねくり回しています。何でもかんでも分析する癖があり、自分一人で「ああでもないこうでもない」と考えている時が幸せです。\\n\\nふっと考え事の世界に行ってしまい、周りを見ていない事も多いので、事故にあったり、服を前後逆に着たまま出かけないように注意が必要です。\\n\\n知識欲がとりわけ強く、本の虫のような人が多くいます。自分の知性に自信を持っており、もっとを才能を伸ばしたいと思っています。\\n\\n独創的かつ論理的な考え方をします。 とりわけ物事の本質を見極めたり、難しい抽象的な問題を考えるのが得意です。\\n\\n既存の定説に対して疑い深く、今の状況を改善したり新しい論理モデルを作りたいという情熱を持ちます。\\n\\n的確なコミュニケーションを重んじ、長々しい話を好みません。ただし自分の専門分野や興味がある事を親しい人に話す時は、おしゃべりになります。また思考や論理の中の矛盾を発見するのが得意で、議論中の発言は正確で鋭いです。\\n\\n危機に瀕しても冷静で、困難に直面すると大いにやる気を出します。ところが簡単な事はすぐに飽きてしまい、雑事や細かい事には注意を向けないので、傲慢に見える事もあります。\\n\\nINTP型は向上心に燃える優れた理論家ですが、欠点もあります。\\nまず第一に、社交が苦手な傾向があります。自分の感情を口頭で伝えたり、世間話をするのが難しく感じます。また他人の感情や欲求に鈍感です。\\n自分より頭の悪そうな人間を軽視する事があり、知らず知らずのうちに周りから敵対心や警戒感を持たれる場合があります。\\n自分の仕事に間違いや欠点があると、そこばかりに注意が向いてしまい最後までやり遂げる事ができない事があります。また完璧、有能、優秀でありたい思いが強すぎるため、時に無力感に襲われストレスを抱えます。\\n\\n \\n\\n◆以下の状況で、動揺したり嫌悪感を覚えます\\n・論理性に欠ける議論を強制された時や、分析の完全性を疑われたとき。\\n・自分内部に留めている深い考えを説明するよう強要され、理解されなかった場合。\\n・立場や考えをはっきりさせるように迫られた場合。\\n◆不満を感じると、次のような行動を起こします\\n・皮肉を言ったり、過度に否定的になる\\n・周囲から孤立し、今やるべき事を先送りにする\\n・言い争いを始める\\n\\n◆大きなストレスを感じると・・・\\n感情的に爆発し、泣いたり激怒して他者を驚かせる事があります。その場合は普段の落ち着きはらった態度とかけ離れた振る舞いをしてしまい、後で恥ずかしくなる事があります。\\n◆16種類の性格のうち、人口に占める割合（アメリカの統計）\\n３～５％\\n\\n◆アドバイス\\n自己開示は人間関係を構築するうえで大切です。\\nまた物事は最後までやり遂げ、周囲の人に感謝の気持ちを示す事を忘れないようにしましょう。\\n\\n◆反対の性格型\\nESFJ\\n\\n\\n\\n同じ性格型の可能性がある有名人（独断と偏見による選定）\\nアインシュタイン\\nニュートン\\nソクラテス\\nカール・ユング\\nダーウィン\\nキュリー夫人\\nウィリアム・ジェイムズ・サイディズ（数学者）\\n伊藤みどり（アイススケート選手）\\nエドガー・アラン・ポー（小説家）\\nトーマス・ジェファーソン\\nシャーロック・ホームズ\\nL（デスノート）\\nはたけカカシ（NARUTO）\\nナミ（ONE PIECE）\\nC.C.(コードギアス)\\nリコ・ブレツェンスカ（進撃の巨人）\\nキルア（HunterxHunter）\\n飛影（幽遊白書）\\n', mimetype='text/plain', start_char_idx=None, end_char_idx=None, text_template='{metadata_str}\\n\\n{content}', metadata_template='{key}: {value}', metadata_seperator='\\n'), Document(id_='24577e42-6108-4d5a-92ae-a9ff03d50157', embedding=None, metadata={'file_path': '/Users/teihiroki/Repository/private/gpt-frameworks/llama_index/data/interest/mbti/ISFJ.txt', 'file_name': 'ISFJ.txt', 'file_type': 'text/plain', 'file_size': 3846, 'creation_date': '2024-05-13', 'last_modified_date': '2024-05-13'}, excluded_embed_metadata_keys=['file_name', 'file_type', 'file_size', 'creation_date', 'last_modified_date', 'last_accessed_date'], excluded_llm_metadata_keys=['file_name', 'file_type', 'file_size', 'creation_date', 'last_modified_date', 'last_accessed_date'], relationships={}, text='ISFJ サービスマン\\n忠誠心が強く、勤勉でひたむき、おもいやりもある性格で、人の役に立ちたいという願望があります。特に目の前に困っている人、助けが必要な人がいると、手を差し伸べたくなります。\\n\\n大量のデータを扱うのが得意で、物事の細部まで正確にこなす集中力があります。人の声や表情、名前などをよく覚え、繰り返しが多い単調作業への耐性も高いです。そして必要な事であれば、困難にぶつかっても最後までやり通します。一方で想定外のできごとは苦手なので、何事も計画通りに進まないと安心できません。休日の過ごし方でさえ、計画をたてて管理します。\\n\\n人と交流するときは暖かく接します。といっても社交家ではなく、一人でゆっくりしたり、家族や少数の親友と過ごすことを好みます。物静かで自分の感情が揺れ動いている時でも、気持ちを打ち明ける事はあまりありません。ただ、そういった深い所にある感情を理解してもらえると嬉しく感じます。\\n\\n浪費や、身の丈にあっていない派手な生活は嫌いです。派手で金遣いの荒い人よりも、静かで控えめな相手を友人として選ぶことの方が多いようです。\\n\\nISFJ型の真面目でサービス精神溢れる所は大きな美点です。しかしそれ故困った事も起きます。\\nまず自分の欲求より、家族や友人の願いを優先してしまう事があります。押しが強い人につけ込まれて、何かと頼まれごとをされる事もあります。これでは幸せになれません。また細かい作業に強く労をいといませんが、うっかりすると日々の単調な作業にはまり込みヘトヘトになってしまいます。さらに周到に計画を練るわりには、将来を見通すのは苦手なので、努力した割には報われない事もあります。\\n\\n \\n\\n◆以下の状況で、動揺したり嫌悪感を覚えます\\n\\u3000意見の対立が長引いた時\\n\\n◆不満を感じると、次のような行動を起こします\\n・上下関係、権威、手順などを必要以上に重視する\\n・感謝されていないと感じ、不平不満を沢山言う\\n・決定が人に及ぼす影響を過度に重視する\\n◆大きなストレスにさらされた場合\\n物事を大げさに考えてしまう事があります。\\nその場合、否定的な想像にとらわれ、他人への気持ちを配慮せず、想像したことを直接相手にぶつけてしまいます。\\n◆16種類の性格のうち、人口に占める割合（アメリカの統計）\\n９～１４％\\n\\n◆アドバイス\\n分析的で柔軟に方針を変える人も、その人なりの配慮を示している事があります。\\nまた人のことばかり優先せずに、自分自身も大切にしましょう。\\n◆反対の性格型\\nENTP\\n\\n\\n\\n\\n同じ性格型の可能性がある有名人（独断と偏見による選定）\\n昭和天皇\\nマザーテレサ\\nメアリー1世\\nエリザベス２世\\nアルフレッド・テニスン(詩人)\\nチャールズ・ディケンズ(オリバー・トゥイストや二都物語の作者)\\nバーバラ・ブッシュ（ジョージ・W・ブッシュの母）\\nワトソン（シャーロック・ホームズ）\\nノア（ノアの箱舟）\\nフネ（サザエさん）\\nドビー (ハリーポッター)\\nリトアニア（ヘタリア）\\n幕之内一歩（はじめの一歩）\\n扇 要(コードギアス)\\nドラえもん\\n小山柚子（ガールズ＆パンツァー）\\nカルナ（ゼノブレイド）\\nグーフィー（ディズニー）\\nマルコ・ボット（進撃の巨人）\\n', mimetype='text/plain', start_char_idx=None, end_char_idx=None, text_template='{metadata_str}\\n\\n{content}', metadata_template='{key}: {value}', metadata_seperator='\\n'), Document(id_='2fe1a103-6eac-47da-b155-d7066e699e80', embedding=None, metadata={'file_path': '/Users/teihiroki/Repository/private/gpt-frameworks/llama_index/data/interest/mbti/ISFP.txt', 'file_name': 'ISFP.txt', 'file_type': 'text/plain', 'file_size': 4232, 'creation_date': '2024-05-13', 'last_modified_date': '2024-05-13'}, excluded_embed_metadata_keys=['file_name', 'file_type', 'file_size', 'creation_date', 'last_modified_date', 'last_accessed_date'], excluded_llm_metadata_keys=['file_name', 'file_type', 'file_size', 'creation_date', 'last_modified_date', 'last_accessed_date'], relationships={}, text='ISFP\\u3000調和を願う職人\\n会話や文章表現にあまり関心がなく、他人に影響力を発揮したいとも思わず、趣味なども親しい人以外にはなかなか見せないので、最も影が薄い性格型と言えるかもしれません。\\n\\nしんぼう強くて柔軟性があり、他人の気持ちを察するのも得意なので、大抵の人とはうまく付き合えます。ただ多くの人と積極的に付き合うと言うよりは、家族や、少数の仲の良い人といっしょにいる事を好みます。特に時間をかけて自分の内面を理解してくれる人とは親しくなります。\\n\\n\\nあまりリーダーシップを取ろうとは考えておらず、代わりに他者を見守ったりサポートに回ります。また人に対する思いやりを言葉より、行動で示そうとします。\\n\\nいま生きることを楽しみ、その瞬間瞬間を味わいます。そのため、やりたいと感じた事を、すぐに、満足するまでやろうとします。何に興味を持つかは人それぞれですが、絵、音楽、料理、体を動かす事など、目で見て、耳で聞き、体で感じる活動を好みます。一旦活動しだすと、脇目もふらず熱中する事もあります。また自然や、田園風景、動物、子供などに対して、他のタイプより高い関心を示す事が多いようです。これらの特性により、芸術家や職人として活躍している事もあります。\\n\\n短期的な計画は立てますが、長期的な計画を立てるのは苦手です。広い視野で物事を見たり、前もって準備する気になかなかなれません。また整理整頓も苦手です。\\n\\nISFP型の職人芸、人を思いやる性格は大きな美点ですが、同時に弱点でもあります。\\nというのも他人の問題につい首を突っ込みすぎたり、自分のやりたい事より相手の願いを叶える事に懸命になってしまう事があるからです。こうなると心身によくないので、もっと自分自身の要求を主張するようにしましょう。また人をあまり疑わないため、話術に長けた悪人に騙されてしまう危険があります。\\n\\n \\n\\n◆以下の状況で、動揺したり嫌悪感を覚えます\\n・否定的なフィードバック受けた時や、人と協同できない時。\\n・内面にしまっている価値観が侵害された時。\\n◆不満を感じると、次のような行動を起こします\\n・周囲の人や状況との接触を止めてしまう\\n・過度に自己批判する\\n・制度や規則に受身になることで抵抗する\\n・他者から軽視されていると感じる\\n◆大きなストレスを感じると・・・\\n普段とはうって変わって他者や自分に批判的になり、言葉がきつくなったり、否定的に決め付ける事があります。\\n◆16種類の性格のうち、人口に占める割合（アメリカの統計）\\n５～９％\\n\\n◆アドバイス\\nやさしさや信念だけでは、人の行動を改めさせたり筋道だてて解決できない事もあります。\\n時には強固な態度や質問も役に立ちます。論理的に批判するのは良い事だと考える性格タイプも存在するからです。また目の前で起きている事だけでなく、大局的な視点を持つようにしましょう。\\n\\n◆反対の性格型\\nENTJ\\n\\n\\n\\n\\n同じ性格型の可能性がある有名人（独断と偏見による選定）\\nモーツァルト\\nベートーベン\\nトスカーニ\\nレンブラント\\nニジンスキー\\nパブロ・ピカソ\\nマリー・アントワネット\\nマリリン・モンロー\\nエリザベス・テイラー\\nケビン・コスナー\\n天海祐希\\nワカメ(サザエさん)\\nハリーポッター\\nリンク（ゼルダの伝説）\\nケンシロウ（北斗の拳）\\nチョッパー（ONE PIECE）\\nロロ・ランペルージ(コードギアス)\\n西住みほ（ガールズ＆パンツァー）\\nロック（ブラック・ラグーン）\\n※この性格型は、画家、音楽家、舞踊家、スポーツ選手などに多い\\n', mimetype='text/plain', start_char_idx=None, end_char_idx=None, text_template='{metadata_str}\\n\\n{content}', metadata_template='{key}: {value}', metadata_seperator='\\n'), Document(id_='480f1f14-81c7-4090-8c33-1898f386a20b', embedding=None, metadata={'file_path': '/Users/teihiroki/Repository/private/gpt-frameworks/llama_index/data/interest/mbti/ISTJ.txt', 'file_name': 'ISTJ.txt', 'file_type': 'text/plain', 'file_size': 4572, 'creation_date': '2024-05-13', 'last_modified_date': '2024-05-13'}, excluded_embed_metadata_keys=['file_name', 'file_type', 'file_size', 'creation_date', 'last_modified_date', 'last_accessed_date'], excluded_llm_metadata_keys=['file_name', 'file_type', 'file_size', 'creation_date', 'last_modified_date', 'last_accessed_date'], relationships={}, text='ISTJ\\u3000一人コツコツ努力する人\\n真面目で責任感がある性格です。組織や家族など親しい人への忠誠心が強く、自分が言った事に責任を持つので信頼されます。また一度や決めたことは、困難に遭遇しても最後までやり通そうとします。\\n\\n実践的な事を重視し、物事の細部までよく覚えており集中力もあります。そして自分の経験から的確に判断を下します。論理的で客観的なので、時に非情な決断を下す事もあります。また周囲の感情に気を配らないため、冷たい人だと思われる事もあります。\\n\\n何事も予定を立てて順番にこなして行くので達成率は高いのですが、周りにそうしない人がいるとイライラします。一度たてた計画を変更させらそうになると頑固に抵抗します。またリスクを取る事は好まず、慎重で保守的です。未知の物や、社会一般に承認されていない説を疑います。\\n\\n\\n未来の可能性にかけるより、今起きている事にひたむきに取りくみたいと考えています。ISTJが新しい方法を取り入れるのは、成果が出ると事実から証明された時です。あくまでも実践的ですぐに役に立つ事が大切なのです。\\n\\n一人でいる事を好み、他者から指図されたり、人の助けを借りたいとは思いません。一人コツコツ作業するのが性に合っています。\\nただし必要性が感じられ、役割と責任範囲が明確ならグループ活動にも積極的に参加します。そのため社交的な性格と勘違いされる事もあります。特にISTJ型の男性の場合は、同性の友人やグループで活動する事を好みます。\\n\\n無駄遣いは嫌いで、何かを買う時は、見た目よりも実用性を重視します。約束を守らない人、オーバーなしゃべり方をする人や、派手で贅沢な人などには、内心眉をひそめます。\\n\\n \\n\\nISTJ型の真面目で論理的、初心貫徹の精神は大きな美点です。しかし苦手な事もあります。\\nまず日々の細かい作業に没頭しがちなため、大局を見るのが苦手です。変化に対応するのも難しく感じるかもしれません。また自分の見解とは異なる説を一方的に拒んだり、人の感情を考慮せず意見を主張する傾向もあります。\\n\\n \\n\\n◆以下の状況で、動揺したり嫌悪感を覚えます\\n分析能力や事実的根拠を疑われた時\\n◆不満を感じると、次のような行動を起こします\\n・スケジュールや手順などに固執し、何でも型どおりにやる\\n・批判的になり善悪を決め付ける\\n・正確さにおいて他者を信用できなくなり、何でも自分一人でやろうとする\\n◆大きなストレスを感じると・・・\\n普段の冷静さを失い論理的な判断ができずに、物事を大げさに考えてしまう。そして自分や周囲の人に途方もない困難な事がふりかかるなどの悲観的な想像にとらわれる。\\n◆16種類の性格のうち、人口に占める割合（アメリカの統計）\\n１１～１４％\\n\\n◆アドバイス\\n質問が多い人や価値観に焦点を当てる人にも耳を傾けましょう。新しい可能性や見落としがちな視点が得られます。またもう少し人の気持ちを思いやりましょう。\\n\\n◆反対の性格型\\nENFP\\n\\n\\n\\n\\n同じ性格型の可能性がある有名人（独断と偏見による選定）\\nジョージ・ワシントン\\nジョージHWブッシュ\\nハリー・S・トルーマン\\nコンドリーザ・ライス（第66代国務長官）\\nイベンダー・ホリフィールド（ボクサー）\\nミハエル・ヴィットマン（戦車エース）\\nスターリン\\nムスカ（天空の城ラピュタ）\\nピッコロ(ドラゴンボール)\\nイーヨー（くまのプーさん）\\nダースベイダー（スターウォーズ）\\n長門 有希（涼宮ハルヒ）\\n石川 五右ェ門（ルパン三世）\\n相良 宗介（フルメタル・パニック!）\\nミカサ・アッカーマン（進撃の巨人）\\n日向ネジ（NARUTO）\\n枢木スザク(コードギアス)\\n暁美ほむら（魔法少女まどかマギカ）\\nメリア（ゼノブレイド）\\nオルオ・ボザド（進撃の巨人）\\nロベルタ（ブラック・ラグーン）\\n紅シュウ（ベイブレードバースト）\\n', mimetype='text/plain', start_char_idx=None, end_char_idx=None, text_template='{metadata_str}\\n\\n{content}', metadata_template='{key}: {value}', metadata_seperator='\\n'), Document(id_='92eb9f3a-2f2f-45f5-8b44-2078b3590c1a', embedding=None, metadata={'file_path': '/Users/teihiroki/Repository/private/gpt-frameworks/llama_index/data/interest/mbti/ISTP.txt', 'file_name': 'ISTP.txt', 'file_type': 'text/plain', 'file_size': 4459, 'creation_date': '2024-05-13', 'last_modified_date': '2024-05-13'}, excluded_embed_metadata_keys=['file_name', 'file_type', 'file_size', 'creation_date', 'last_modified_date', 'last_accessed_date'], excluded_llm_metadata_keys=['file_name', 'file_type', 'file_size', 'creation_date', 'last_modified_date', 'last_accessed_date'], relationships={}, text='ISTP\\u3000危険やスリルを求める人\\n１６タイプの中で最も実務的な性格です。何事も客観的に判断し、冷静沈着。危機に直面すると、迅速に問題を解決します。道具、機械、楽器などを扱うのが得意な人が多く、手先も器用な人が多いです。\\n\\n事実を観察して、心の中で分析・評価する事に自然と関心が行きます。そのため現実的で勘が良く、最小限の努力で最大の成果を上げます。すぐに活用できない抽象的な理論や無駄な会議には興味を持ちませんし、面倒な規則は無視ようとします。そして新鮮で具体的な課題に挑戦する事を好みます。\\n\\n\\n生来の一匹狼で、人にあまり関心を持ちません。自分の感情を他人と分かち合うのが苦手で、またそんな事をする必要もないと考えています。聞き手に回る事が多くあまり異議をとなえないので、賛成しているのかと思われる事もあります。しかし実際は発言しないだけで自分なりの考えを持っています。大抵は静かで控えめですが、自分がよく知っている事に関してはお喋りになる場合もあります。\\n\\n学校や職場では一匹狼に見えるISTP型ですが、趣味仲間を作るのは好きです。その場合、たとえ会話はなくても趣味における道具、行動を通して友情を育みます。また誰に対しても平等であり、気前がいい面もあります。\\n\\n仕事でも私生活でも、活動的で危険な事をしていると元気になります。野外活動やスポーツを好む人が多く見られます。強風時に外に出たくなったり、ゲームでスリルを楽しむ人も多いはずです。余談ですが、この性格型は「武装型」と呼ばれる事があります。消防士やパイロット、狙撃兵、スポーツ選手のような、危険が伴う仕事や武器を扱うプロフェッショナルに、ISTPが多いためです。\\n\\nISTP型の冷静で臨機応変な点は大きな強みです。しかし次のような弱点も持っています。\\n自由時間が欲しいので最低限の事しかやらない傾向があります。できるだけ近道をしたい、無駄な努力をしたくないという感情が強すぎるためです。臨機応変で常に新しい情報を集めようとするので、優柔不断で煮えたぎらない所があります。また人間関係には弱く、ちょっとでももつれると責任から逃れようとします。\\n\\n\\n \\n\\n◆以下の状況で、動揺したり嫌悪感を覚えます\\n・哲学的な議論を我慢しないといけない時や、事実が見失われるようなグループ討論や作業。\\n・自分内部に留めている深い考えを説明するよう強要され、理解されなかった場合。\\n・立場や考えをはっきりさせるように迫られた場合。\\n◆不満を感じると、次のような行動を起こします\\n・皮肉を言ったり、物事に否定的になる\\n・周囲に関心を持つのをやめ、自分の内面にのみエネルギーを注ぐ\\n・決断を先送りにする\\n◆大きなストレスを感じると・・・\\n感情的に爆発し、激怒したり涙を流して、他人を驚かせる事があります。その場合は、普段の落ち着きはらった態度からかけ離れた振る舞いをしてしまい、後で恥ずかしく感じます。\\n◆16種類の性格のうち、人口に占める割合（アメリカの統計）\\n４～６％\\n\\n◆アドバイス\\nもっと人の気持ちに注意を払い、時には自分の気持ちを正直に話し、健全な人間関係を築きましょう。\\n\\n◆反対の性格型\\nENFJ\\n\\n\\n\\n\\n同じ性格型の可能性がある有名人（独断と偏見による選定）\\nタイガー・ウッズ\\nトム・クルーズ\\nマイケル・ジョーダン\\nブルース・リー\\nルーデル（戦車撃破王）\\nエルヴィン・ロンメル（ドイツの将軍）\\nアラゴルン（指輪物語）\\nランボー\\nロッキー\\n人造人間18号(ドラゴンボール)\\nリューク（デスノート）\\nスパイク・スピーゲル（カウボーイビバップ）\\nゾロ（ONE PIECE）\\n冷泉麻子（ガールズアンドパンツァー）\\nネテロ（HunterxHunter）\\n幻海（幽遊白書）\\n', mimetype='text/plain', start_char_idx=None, end_char_idx=None, text_template='{metadata_str}\\n\\n{content}', metadata_template='{key}: {value}', metadata_seperator='\\n')]\n"
     ]
    },
    {
     "ename": "RuntimeError",
     "evalue": "asyncio.run() cannot be called from a running event loop",
     "output_type": "error",
     "traceback": [
      "\u001b[0;31m---------------------------------------------------------------------------\u001b[0m",
      "\u001b[0;31mRuntimeError\u001b[0m                              Traceback (most recent call last)",
      "Cell \u001b[0;32mIn[4], line 31\u001b[0m\n\u001b[1;32m     16\u001b[0m schema \u001b[38;5;241m=\u001b[39m {\n\u001b[1;32m     17\u001b[0m     \u001b[38;5;124m\"\u001b[39m\u001b[38;5;124mPERSONALITY\u001b[39m\u001b[38;5;124m\"\u001b[39m: [\u001b[38;5;124m\"\u001b[39m\u001b[38;5;124mHAS\u001b[39m\u001b[38;5;124m\"\u001b[39m],\n\u001b[1;32m     18\u001b[0m     \u001b[38;5;124m\"\u001b[39m\u001b[38;5;124mSTRENGTH\u001b[39m\u001b[38;5;124m\"\u001b[39m: [\u001b[38;5;124m\"\u001b[39m\u001b[38;5;124mIS_A\u001b[39m\u001b[38;5;124m\"\u001b[39m],\n\u001b[1;32m     19\u001b[0m     \u001b[38;5;124m\"\u001b[39m\u001b[38;5;124mWEAKNESS\u001b[39m\u001b[38;5;124m\"\u001b[39m: [\u001b[38;5;124m\"\u001b[39m\u001b[38;5;124mIS_A\u001b[39m\u001b[38;5;124m\"\u001b[39m],\n\u001b[1;32m     20\u001b[0m }\n\u001b[1;32m     21\u001b[0m schema_extractor \u001b[38;5;241m=\u001b[39m SchemaLLMPathExtractor(\n\u001b[1;32m     22\u001b[0m     llm \u001b[38;5;241m=\u001b[39m llm,\n\u001b[1;32m     23\u001b[0m     possible_entities\u001b[38;5;241m=\u001b[39mentities,\n\u001b[0;32m   (...)\u001b[0m\n\u001b[1;32m     29\u001b[0m     \u001b[38;5;66;03m#show_progres=False,\u001b[39;00m\n\u001b[1;32m     30\u001b[0m )\n\u001b[0;32m---> 31\u001b[0m index \u001b[38;5;241m=\u001b[39m \u001b[43mPropertyGraphIndex\u001b[49m\u001b[38;5;241;43m.\u001b[39;49m\u001b[43mfrom_documents\u001b[49m\u001b[43m(\u001b[49m\u001b[43mdocuments\u001b[49m\u001b[43m,\u001b[49m\u001b[43m \u001b[49m\u001b[43mkg_extractors\u001b[49m\u001b[38;5;241;43m=\u001b[39;49m\u001b[43m[\u001b[49m\u001b[43mschema_extractor\u001b[49m\u001b[43m]\u001b[49m\u001b[43m)\u001b[49m\n",
      "File \u001b[0;32m~/Repository/private/gpt-frameworks/llama_index/.venv/lib/python3.12/site-packages/llama_index/core/indices/base.py:145\u001b[0m, in \u001b[0;36mBaseIndex.from_documents\u001b[0;34m(cls, documents, storage_context, show_progress, callback_manager, transformations, service_context, **kwargs)\u001b[0m\n\u001b[1;32m    136\u001b[0m     docstore\u001b[38;5;241m.\u001b[39mset_document_hash(doc\u001b[38;5;241m.\u001b[39mget_doc_id(), doc\u001b[38;5;241m.\u001b[39mhash)\n\u001b[1;32m    138\u001b[0m nodes \u001b[38;5;241m=\u001b[39m run_transformations(\n\u001b[1;32m    139\u001b[0m     documents,  \u001b[38;5;66;03m# type: ignore\u001b[39;00m\n\u001b[1;32m    140\u001b[0m     transformations,\n\u001b[1;32m    141\u001b[0m     show_progress\u001b[38;5;241m=\u001b[39mshow_progress,\n\u001b[1;32m    142\u001b[0m     \u001b[38;5;241m*\u001b[39m\u001b[38;5;241m*\u001b[39mkwargs,\n\u001b[1;32m    143\u001b[0m )\n\u001b[0;32m--> 145\u001b[0m \u001b[38;5;28;01mreturn\u001b[39;00m \u001b[38;5;28;43mcls\u001b[39;49m\u001b[43m(\u001b[49m\n\u001b[1;32m    146\u001b[0m \u001b[43m    \u001b[49m\u001b[43mnodes\u001b[49m\u001b[38;5;241;43m=\u001b[39;49m\u001b[43mnodes\u001b[49m\u001b[43m,\u001b[49m\n\u001b[1;32m    147\u001b[0m \u001b[43m    \u001b[49m\u001b[43mstorage_context\u001b[49m\u001b[38;5;241;43m=\u001b[39;49m\u001b[43mstorage_context\u001b[49m\u001b[43m,\u001b[49m\n\u001b[1;32m    148\u001b[0m \u001b[43m    \u001b[49m\u001b[43mcallback_manager\u001b[49m\u001b[38;5;241;43m=\u001b[39;49m\u001b[43mcallback_manager\u001b[49m\u001b[43m,\u001b[49m\n\u001b[1;32m    149\u001b[0m \u001b[43m    \u001b[49m\u001b[43mshow_progress\u001b[49m\u001b[38;5;241;43m=\u001b[39;49m\u001b[43mshow_progress\u001b[49m\u001b[43m,\u001b[49m\n\u001b[1;32m    150\u001b[0m \u001b[43m    \u001b[49m\u001b[43mtransformations\u001b[49m\u001b[38;5;241;43m=\u001b[39;49m\u001b[43mtransformations\u001b[49m\u001b[43m,\u001b[49m\n\u001b[1;32m    151\u001b[0m \u001b[43m    \u001b[49m\u001b[43mservice_context\u001b[49m\u001b[38;5;241;43m=\u001b[39;49m\u001b[43mservice_context\u001b[49m\u001b[43m,\u001b[49m\n\u001b[1;32m    152\u001b[0m \u001b[43m    \u001b[49m\u001b[38;5;241;43m*\u001b[39;49m\u001b[38;5;241;43m*\u001b[39;49m\u001b[43mkwargs\u001b[49m\u001b[43m,\u001b[49m\n\u001b[1;32m    153\u001b[0m \u001b[43m\u001b[49m\u001b[43m)\u001b[49m\n",
      "File \u001b[0;32m~/Repository/private/gpt-frameworks/llama_index/.venv/lib/python3.12/site-packages/llama_index/core/indices/property_graph/base.py:134\u001b[0m, in \u001b[0;36mPropertyGraphIndex.__init__\u001b[0;34m(self, nodes, llm, kg_extractors, property_graph_store, vector_store, use_async, embed_model, embed_kg_nodes, callback_manager, transformations, storage_context, show_progress, **kwargs)\u001b[0m\n\u001b[1;32m    128\u001b[0m \u001b[38;5;28mself\u001b[39m\u001b[38;5;241m.\u001b[39m_embed_kg_nodes \u001b[38;5;241m=\u001b[39m embed_kg_nodes\n\u001b[1;32m    129\u001b[0m \u001b[38;5;28mself\u001b[39m\u001b[38;5;241m.\u001b[39m_override_vector_store \u001b[38;5;241m=\u001b[39m (\n\u001b[1;32m    130\u001b[0m     vector_store \u001b[38;5;129;01mis\u001b[39;00m \u001b[38;5;129;01mnot\u001b[39;00m \u001b[38;5;28;01mNone\u001b[39;00m\n\u001b[1;32m    131\u001b[0m     \u001b[38;5;129;01mor\u001b[39;00m \u001b[38;5;129;01mnot\u001b[39;00m storage_context\u001b[38;5;241m.\u001b[39mproperty_graph_store\u001b[38;5;241m.\u001b[39msupports_vector_queries\n\u001b[1;32m    132\u001b[0m )\n\u001b[0;32m--> 134\u001b[0m \u001b[38;5;28;43msuper\u001b[39;49m\u001b[43m(\u001b[49m\u001b[43m)\u001b[49m\u001b[38;5;241;43m.\u001b[39;49m\u001b[38;5;21;43m__init__\u001b[39;49m\u001b[43m(\u001b[49m\n\u001b[1;32m    135\u001b[0m \u001b[43m    \u001b[49m\u001b[43mnodes\u001b[49m\u001b[38;5;241;43m=\u001b[39;49m\u001b[43mnodes\u001b[49m\u001b[43m,\u001b[49m\n\u001b[1;32m    136\u001b[0m \u001b[43m    \u001b[49m\u001b[43mcallback_manager\u001b[49m\u001b[38;5;241;43m=\u001b[39;49m\u001b[43mcallback_manager\u001b[49m\u001b[43m,\u001b[49m\n\u001b[1;32m    137\u001b[0m \u001b[43m    \u001b[49m\u001b[43mstorage_context\u001b[49m\u001b[38;5;241;43m=\u001b[39;49m\u001b[43mstorage_context\u001b[49m\u001b[43m,\u001b[49m\n\u001b[1;32m    138\u001b[0m \u001b[43m    \u001b[49m\u001b[43mtransformations\u001b[49m\u001b[38;5;241;43m=\u001b[39;49m\u001b[43mtransformations\u001b[49m\u001b[43m,\u001b[49m\n\u001b[1;32m    139\u001b[0m \u001b[43m    \u001b[49m\u001b[43mshow_progress\u001b[49m\u001b[38;5;241;43m=\u001b[39;49m\u001b[43mshow_progress\u001b[49m\u001b[43m,\u001b[49m\n\u001b[1;32m    140\u001b[0m \u001b[43m    \u001b[49m\u001b[38;5;241;43m*\u001b[39;49m\u001b[38;5;241;43m*\u001b[39;49m\u001b[43mkwargs\u001b[49m\u001b[43m,\u001b[49m\n\u001b[1;32m    141\u001b[0m \u001b[43m\u001b[49m\u001b[43m)\u001b[49m\n",
      "File \u001b[0;32m~/Repository/private/gpt-frameworks/llama_index/.venv/lib/python3.12/site-packages/llama_index/core/indices/base.py:94\u001b[0m, in \u001b[0;36mBaseIndex.__init__\u001b[0;34m(self, nodes, objects, index_struct, storage_context, callback_manager, transformations, show_progress, service_context, **kwargs)\u001b[0m\n\u001b[1;32m     92\u001b[0m \u001b[38;5;28;01mif\u001b[39;00m index_struct \u001b[38;5;129;01mis\u001b[39;00m \u001b[38;5;28;01mNone\u001b[39;00m:\n\u001b[1;32m     93\u001b[0m     nodes \u001b[38;5;241m=\u001b[39m nodes \u001b[38;5;129;01mor\u001b[39;00m []\n\u001b[0;32m---> 94\u001b[0m     index_struct \u001b[38;5;241m=\u001b[39m \u001b[38;5;28;43mself\u001b[39;49m\u001b[38;5;241;43m.\u001b[39;49m\u001b[43mbuild_index_from_nodes\u001b[49m\u001b[43m(\u001b[49m\n\u001b[1;32m     95\u001b[0m \u001b[43m        \u001b[49m\u001b[43mnodes\u001b[49m\u001b[43m \u001b[49m\u001b[38;5;241;43m+\u001b[39;49m\u001b[43m \u001b[49m\u001b[43mobjects\u001b[49m\u001b[43m,\u001b[49m\u001b[43m \u001b[49m\u001b[38;5;241;43m*\u001b[39;49m\u001b[38;5;241;43m*\u001b[39;49m\u001b[43mkwargs\u001b[49m\u001b[43m  \u001b[49m\u001b[38;5;66;43;03m# type: ignore\u001b[39;49;00m\n\u001b[1;32m     96\u001b[0m \u001b[43m    \u001b[49m\u001b[43m)\u001b[49m\n\u001b[1;32m     97\u001b[0m \u001b[38;5;28mself\u001b[39m\u001b[38;5;241m.\u001b[39m_index_struct \u001b[38;5;241m=\u001b[39m index_struct\n\u001b[1;32m     98\u001b[0m \u001b[38;5;28mself\u001b[39m\u001b[38;5;241m.\u001b[39m_storage_context\u001b[38;5;241m.\u001b[39mindex_store\u001b[38;5;241m.\u001b[39madd_index_struct(\u001b[38;5;28mself\u001b[39m\u001b[38;5;241m.\u001b[39m_index_struct)\n",
      "File \u001b[0;32m~/Repository/private/gpt-frameworks/llama_index/.venv/lib/python3.12/site-packages/llama_index/core/indices/base.py:216\u001b[0m, in \u001b[0;36mBaseIndex.build_index_from_nodes\u001b[0;34m(self, nodes, **build_kwargs)\u001b[0m\n\u001b[1;32m    214\u001b[0m \u001b[38;5;250m\u001b[39m\u001b[38;5;124;03m\"\"\"Build the index from nodes.\"\"\"\u001b[39;00m\n\u001b[1;32m    215\u001b[0m \u001b[38;5;28mself\u001b[39m\u001b[38;5;241m.\u001b[39m_docstore\u001b[38;5;241m.\u001b[39madd_documents(nodes, allow_update\u001b[38;5;241m=\u001b[39m\u001b[38;5;28;01mTrue\u001b[39;00m)\n\u001b[0;32m--> 216\u001b[0m \u001b[38;5;28;01mreturn\u001b[39;00m \u001b[38;5;28;43mself\u001b[39;49m\u001b[38;5;241;43m.\u001b[39;49m\u001b[43m_build_index_from_nodes\u001b[49m\u001b[43m(\u001b[49m\u001b[43mnodes\u001b[49m\u001b[43m,\u001b[49m\u001b[43m \u001b[49m\u001b[38;5;241;43m*\u001b[39;49m\u001b[38;5;241;43m*\u001b[39;49m\u001b[43mbuild_kwargs\u001b[49m\u001b[43m)\u001b[49m\n",
      "File \u001b[0;32m~/Repository/private/gpt-frameworks/llama_index/.venv/lib/python3.12/site-packages/llama_index/core/indices/property_graph/base.py:328\u001b[0m, in \u001b[0;36mPropertyGraphIndex._build_index_from_nodes\u001b[0;34m(self, nodes)\u001b[0m\n\u001b[1;32m    326\u001b[0m \u001b[38;5;28;01mdef\u001b[39;00m \u001b[38;5;21m_build_index_from_nodes\u001b[39m(\u001b[38;5;28mself\u001b[39m, nodes: Optional[Sequence[BaseNode]]) \u001b[38;5;241m-\u001b[39m\u001b[38;5;241m>\u001b[39m IndexLPG:\n\u001b[1;32m    327\u001b[0m \u001b[38;5;250m    \u001b[39m\u001b[38;5;124;03m\"\"\"Build index from nodes.\"\"\"\u001b[39;00m\n\u001b[0;32m--> 328\u001b[0m     nodes \u001b[38;5;241m=\u001b[39m \u001b[38;5;28;43mself\u001b[39;49m\u001b[38;5;241;43m.\u001b[39;49m\u001b[43m_insert_nodes\u001b[49m\u001b[43m(\u001b[49m\u001b[43mnodes\u001b[49m\u001b[43m \u001b[49m\u001b[38;5;129;43;01mor\u001b[39;49;00m\u001b[43m \u001b[49m\u001b[43m[\u001b[49m\u001b[43m]\u001b[49m\u001b[43m)\u001b[49m\n\u001b[1;32m    330\u001b[0m     \u001b[38;5;66;03m# this isn't really used or needed\u001b[39;00m\n\u001b[1;32m    331\u001b[0m     \u001b[38;5;28;01mreturn\u001b[39;00m IndexLPG()\n",
      "File \u001b[0;32m~/Repository/private/gpt-frameworks/llama_index/.venv/lib/python3.12/site-packages/llama_index/core/indices/property_graph/base.py:198\u001b[0m, in \u001b[0;36mPropertyGraphIndex._insert_nodes\u001b[0;34m(self, nodes)\u001b[0m\n\u001b[1;32m    196\u001b[0m \u001b[38;5;66;03m# run transformations on nodes to extract triplets\u001b[39;00m\n\u001b[1;32m    197\u001b[0m \u001b[38;5;28;01mif\u001b[39;00m \u001b[38;5;28mself\u001b[39m\u001b[38;5;241m.\u001b[39m_use_async:\n\u001b[0;32m--> 198\u001b[0m     nodes \u001b[38;5;241m=\u001b[39m \u001b[43masyncio\u001b[49m\u001b[38;5;241;43m.\u001b[39;49m\u001b[43mrun\u001b[49m\u001b[43m(\u001b[49m\n\u001b[1;32m    199\u001b[0m \u001b[43m        \u001b[49m\u001b[43marun_transformations\u001b[49m\u001b[43m(\u001b[49m\n\u001b[1;32m    200\u001b[0m \u001b[43m            \u001b[49m\u001b[43mnodes\u001b[49m\u001b[43m,\u001b[49m\u001b[43m \u001b[49m\u001b[38;5;28;43mself\u001b[39;49m\u001b[38;5;241;43m.\u001b[39;49m\u001b[43m_kg_extractors\u001b[49m\u001b[43m,\u001b[49m\u001b[43m \u001b[49m\u001b[43mshow_progress\u001b[49m\u001b[38;5;241;43m=\u001b[39;49m\u001b[38;5;28;43mself\u001b[39;49m\u001b[38;5;241;43m.\u001b[39;49m\u001b[43m_show_progress\u001b[49m\n\u001b[1;32m    201\u001b[0m \u001b[43m        \u001b[49m\u001b[43m)\u001b[49m\n\u001b[1;32m    202\u001b[0m \u001b[43m    \u001b[49m\u001b[43m)\u001b[49m\n\u001b[1;32m    203\u001b[0m \u001b[38;5;28;01melse\u001b[39;00m:\n\u001b[1;32m    204\u001b[0m     nodes \u001b[38;5;241m=\u001b[39m run_transformations(\n\u001b[1;32m    205\u001b[0m         nodes, \u001b[38;5;28mself\u001b[39m\u001b[38;5;241m.\u001b[39m_kg_extractors, show_progress\u001b[38;5;241m=\u001b[39m\u001b[38;5;28mself\u001b[39m\u001b[38;5;241m.\u001b[39m_show_progress\n\u001b[1;32m    206\u001b[0m     )\n",
      "File \u001b[0;32m~/.asdf/installs/python/3.12.2/lib/python3.12/asyncio/runners.py:190\u001b[0m, in \u001b[0;36mrun\u001b[0;34m(main, debug, loop_factory)\u001b[0m\n\u001b[1;32m    161\u001b[0m \u001b[38;5;250m\u001b[39m\u001b[38;5;124;03m\"\"\"Execute the coroutine and return the result.\u001b[39;00m\n\u001b[1;32m    162\u001b[0m \n\u001b[1;32m    163\u001b[0m \u001b[38;5;124;03mThis function runs the passed coroutine, taking care of\u001b[39;00m\n\u001b[0;32m   (...)\u001b[0m\n\u001b[1;32m    186\u001b[0m \u001b[38;5;124;03m    asyncio.run(main())\u001b[39;00m\n\u001b[1;32m    187\u001b[0m \u001b[38;5;124;03m\"\"\"\u001b[39;00m\n\u001b[1;32m    188\u001b[0m \u001b[38;5;28;01mif\u001b[39;00m events\u001b[38;5;241m.\u001b[39m_get_running_loop() \u001b[38;5;129;01mis\u001b[39;00m \u001b[38;5;129;01mnot\u001b[39;00m \u001b[38;5;28;01mNone\u001b[39;00m:\n\u001b[1;32m    189\u001b[0m     \u001b[38;5;66;03m# fail fast with short traceback\u001b[39;00m\n\u001b[0;32m--> 190\u001b[0m     \u001b[38;5;28;01mraise\u001b[39;00m \u001b[38;5;167;01mRuntimeError\u001b[39;00m(\n\u001b[1;32m    191\u001b[0m         \u001b[38;5;124m\"\u001b[39m\u001b[38;5;124masyncio.run() cannot be called from a running event loop\u001b[39m\u001b[38;5;124m\"\u001b[39m)\n\u001b[1;32m    193\u001b[0m \u001b[38;5;28;01mwith\u001b[39;00m Runner(debug\u001b[38;5;241m=\u001b[39mdebug, loop_factory\u001b[38;5;241m=\u001b[39mloop_factory) \u001b[38;5;28;01mas\u001b[39;00m runner:\n\u001b[1;32m    194\u001b[0m     \u001b[38;5;28;01mreturn\u001b[39;00m runner\u001b[38;5;241m.\u001b[39mrun(main)\n",
      "\u001b[0;31mRuntimeError\u001b[0m: asyncio.run() cannot be called from a running event loop"
     ]
    }
   ],
   "source": [
    "\n",
    "# loading data\n",
    "from llama_index.core import SimpleDirectoryReader\n",
    "documents = SimpleDirectoryReader(\"data/interest/mbti\").load_data()\n",
    "print(documents)\n",
    "\n",
    "from llama_index.llms.openai import OpenAI\n",
    "from llama_index.core import PropertyGraphIndex\n",
    "from llama_index.core.indices.property_graph import SchemaLLMPathExtractor\n",
    "\n",
    "from typing import Literal\n",
    "\n",
    "llm = OpenAI(model=\"gpt-4o\")\n",
    "\n",
    "entities = Literal[\"PERSONALITY\", \"STRENGTH\", \"WEAKNESS\"]\n",
    "relations = Literal[\"HAS\", \"IS_A\"]\n",
    "schema = {\n",
    "    \"PERSONALITY\": [\"HAS\"],\n",
    "    \"STRENGTH\": [\"IS_A\"],\n",
    "    \"WEAKNESS\": [\"IS_A\"],\n",
    "}\n",
    "schema_extractor = SchemaLLMPathExtractor(\n",
    "    llm = llm,\n",
    "    possible_entities=entities,\n",
    "    possible_relations=relations,\n",
    "    kg_validation_schema=schema,\n",
    "    strict=True,  # if false, will allow triples outside of the schema\n",
    "    num_workers=2,\n",
    "    #max_paths_per_chunk=10,\n",
    "    #show_progres=False,\n",
    ")\n",
    "index = PropertyGraphIndex.from_documents(documents, kg_extractors=[schema_extractor])\n",
    "\n"
   ]
  },
  {
   "cell_type": "markdown",
   "metadata": {},
   "source": [
    "# Retrieval and Querying"
   ]
  },
  {
   "cell_type": "code",
   "execution_count": 5,
   "metadata": {},
   "outputs": [
    {
     "ename": "SyntaxError",
     "evalue": "invalid syntax (4115057825.py, line 13)",
     "output_type": "error",
     "traceback": [
      "\u001b[0;36m  Cell \u001b[0;32mIn[5], line 13\u001b[0;36m\u001b[0m\n\u001b[0;31m    query_engine.\u001b[0m\n\u001b[0m                 ^\u001b[0m\n\u001b[0;31mSyntaxError\u001b[0m\u001b[0;31m:\u001b[0m invalid syntax\n"
     ]
    }
   ],
   "source": [
    "from llama_index.core.indices.property_graph import (\n",
    "    PGRetriever,\n",
    "    VectorContextRetriever,\n",
    "    LLMSynonymRetriever,\n",
    "    TextToCypherRetriever,\n",
    ")\n",
    "LLMSynonymRetriever(\n",
    "    index.property_graph_store,\n",
    "    # include source chunk text with retrieved paths\n",
    "    include_text=False,\n",
    "    synonym_prompt=prompt,\n",
    "    output_parsing_fn=parse_fn,\n",
    "    max_keywords=10,\n",
    "    # the depth of relations to follow after node retrieval\n",
    "    path_depth=1\n",
    "),\n",
    "\n",
    "#VectorContextRetriever(\n",
    "#    index.property_graph_store\n",
    "#)\n",
    "#\n",
    "#TextToCypherRetriever(),\n",
    "\n",
    "query_engine = index.as_query_engine(sub_retrievers=[])\n",
    "query_engine."
   ]
  }
 ],
 "metadata": {
  "kernelspec": {
   "display_name": "Python 3 (ipykernel)",
   "language": "python",
   "name": "python3"
  },
  "language_info": {
   "codemirror_mode": {
    "name": "ipython",
    "version": 3
   },
   "file_extension": ".py",
   "mimetype": "text/x-python",
   "name": "python",
   "nbconvert_exporter": "python",
   "pygments_lexer": "ipython3",
   "version": "3.12.2"
  }
 },
 "nbformat": 4,
 "nbformat_minor": 2
}
