{
 "cells": [
  {
   "cell_type": "code",
   "execution_count": 1,
   "metadata": {},
   "outputs": [
    {
     "name": "stdout",
     "output_type": "stream",
     "text": [
      "Requirement already satisfied: llama-index-callbacks-wandb in /Users/teihiroki/Repository/private/gpt-frameworks/llama_index/.venv/lib/python3.12/site-packages (0.2.0)\n",
      "Requirement already satisfied: llama-index-core<0.12.0,>=0.11.0 in /Users/teihiroki/Repository/private/gpt-frameworks/llama_index/.venv/lib/python3.12/site-packages (from llama-index-callbacks-wandb) (0.11.10)\n",
      "Requirement already satisfied: wandb<0.17.0,>=0.16.2 in /Users/teihiroki/Repository/private/gpt-frameworks/llama_index/.venv/lib/python3.12/site-packages (from llama-index-callbacks-wandb) (0.16.6)\n",
      "Requirement already satisfied: PyYAML>=6.0.1 in /Users/teihiroki/Repository/private/gpt-frameworks/llama_index/.venv/lib/python3.12/site-packages (from llama-index-core<0.12.0,>=0.11.0->llama-index-callbacks-wandb) (6.0.1)\n",
      "Requirement already satisfied: SQLAlchemy>=1.4.49 in /Users/teihiroki/Repository/private/gpt-frameworks/llama_index/.venv/lib/python3.12/site-packages (from SQLAlchemy[asyncio]>=1.4.49->llama-index-core<0.12.0,>=0.11.0->llama-index-callbacks-wandb) (2.0.31)\n",
      "Requirement already satisfied: aiohttp<4.0.0,>=3.8.6 in /Users/teihiroki/Repository/private/gpt-frameworks/llama_index/.venv/lib/python3.12/site-packages (from llama-index-core<0.12.0,>=0.11.0->llama-index-callbacks-wandb) (3.10.0)\n",
      "Requirement already satisfied: dataclasses-json in /Users/teihiroki/Repository/private/gpt-frameworks/llama_index/.venv/lib/python3.12/site-packages (from llama-index-core<0.12.0,>=0.11.0->llama-index-callbacks-wandb) (0.6.7)\n",
      "Requirement already satisfied: deprecated>=1.2.9.3 in /Users/teihiroki/Repository/private/gpt-frameworks/llama_index/.venv/lib/python3.12/site-packages (from llama-index-core<0.12.0,>=0.11.0->llama-index-callbacks-wandb) (1.2.14)\n",
      "Requirement already satisfied: dirtyjson<2.0.0,>=1.0.8 in /Users/teihiroki/Repository/private/gpt-frameworks/llama_index/.venv/lib/python3.12/site-packages (from llama-index-core<0.12.0,>=0.11.0->llama-index-callbacks-wandb) (1.0.8)\n",
      "Requirement already satisfied: fsspec>=2023.5.0 in /Users/teihiroki/Repository/private/gpt-frameworks/llama_index/.venv/lib/python3.12/site-packages (from llama-index-core<0.12.0,>=0.11.0->llama-index-callbacks-wandb) (2024.6.1)\n",
      "Requirement already satisfied: httpx in /Users/teihiroki/Repository/private/gpt-frameworks/llama_index/.venv/lib/python3.12/site-packages (from llama-index-core<0.12.0,>=0.11.0->llama-index-callbacks-wandb) (0.27.0)\n",
      "Requirement already satisfied: nest-asyncio<2.0.0,>=1.5.8 in /Users/teihiroki/Repository/private/gpt-frameworks/llama_index/.venv/lib/python3.12/site-packages (from llama-index-core<0.12.0,>=0.11.0->llama-index-callbacks-wandb) (1.6.0)\n",
      "Requirement already satisfied: networkx>=3.0 in /Users/teihiroki/Repository/private/gpt-frameworks/llama_index/.venv/lib/python3.12/site-packages (from llama-index-core<0.12.0,>=0.11.0->llama-index-callbacks-wandb) (3.3)\n",
      "Requirement already satisfied: nltk>3.8.1 in /Users/teihiroki/Repository/private/gpt-frameworks/llama_index/.venv/lib/python3.12/site-packages (from llama-index-core<0.12.0,>=0.11.0->llama-index-callbacks-wandb) (3.9.1)\n",
      "Requirement already satisfied: numpy<2.0.0 in /Users/teihiroki/Repository/private/gpt-frameworks/llama_index/.venv/lib/python3.12/site-packages (from llama-index-core<0.12.0,>=0.11.0->llama-index-callbacks-wandb) (1.26.4)\n",
      "Requirement already satisfied: pillow>=9.0.0 in /Users/teihiroki/Repository/private/gpt-frameworks/llama_index/.venv/lib/python3.12/site-packages (from llama-index-core<0.12.0,>=0.11.0->llama-index-callbacks-wandb) (10.4.0)\n",
      "Requirement already satisfied: pydantic<3.0.0,>=2.7.0 in /Users/teihiroki/Repository/private/gpt-frameworks/llama_index/.venv/lib/python3.12/site-packages (from llama-index-core<0.12.0,>=0.11.0->llama-index-callbacks-wandb) (2.8.2)\n",
      "Requirement already satisfied: requests>=2.31.0 in /Users/teihiroki/Repository/private/gpt-frameworks/llama_index/.venv/lib/python3.12/site-packages (from llama-index-core<0.12.0,>=0.11.0->llama-index-callbacks-wandb) (2.32.3)\n",
      "Requirement already satisfied: tenacity!=8.4.0,<9.0.0,>=8.2.0 in /Users/teihiroki/Repository/private/gpt-frameworks/llama_index/.venv/lib/python3.12/site-packages (from llama-index-core<0.12.0,>=0.11.0->llama-index-callbacks-wandb) (8.5.0)\n",
      "Requirement already satisfied: tiktoken>=0.3.3 in /Users/teihiroki/Repository/private/gpt-frameworks/llama_index/.venv/lib/python3.12/site-packages (from llama-index-core<0.12.0,>=0.11.0->llama-index-callbacks-wandb) (0.7.0)\n",
      "Requirement already satisfied: tqdm<5.0.0,>=4.66.1 in /Users/teihiroki/Repository/private/gpt-frameworks/llama_index/.venv/lib/python3.12/site-packages (from llama-index-core<0.12.0,>=0.11.0->llama-index-callbacks-wandb) (4.66.5)\n",
      "Requirement already satisfied: typing-extensions>=4.5.0 in /Users/teihiroki/Repository/private/gpt-frameworks/llama_index/.venv/lib/python3.12/site-packages (from llama-index-core<0.12.0,>=0.11.0->llama-index-callbacks-wandb) (4.12.2)\n",
      "Requirement already satisfied: typing-inspect>=0.8.0 in /Users/teihiroki/Repository/private/gpt-frameworks/llama_index/.venv/lib/python3.12/site-packages (from llama-index-core<0.12.0,>=0.11.0->llama-index-callbacks-wandb) (0.9.0)\n",
      "Requirement already satisfied: wrapt in /Users/teihiroki/Repository/private/gpt-frameworks/llama_index/.venv/lib/python3.12/site-packages (from llama-index-core<0.12.0,>=0.11.0->llama-index-callbacks-wandb) (1.16.0)\n",
      "Requirement already satisfied: Click!=8.0.0,>=7.1 in /Users/teihiroki/Repository/private/gpt-frameworks/llama_index/.venv/lib/python3.12/site-packages (from wandb<0.17.0,>=0.16.2->llama-index-callbacks-wandb) (8.1.7)\n",
      "Requirement already satisfied: GitPython!=3.1.29,>=1.0.0 in /Users/teihiroki/Repository/private/gpt-frameworks/llama_index/.venv/lib/python3.12/site-packages (from wandb<0.17.0,>=0.16.2->llama-index-callbacks-wandb) (3.1.43)\n",
      "Requirement already satisfied: psutil>=5.0.0 in /Users/teihiroki/Repository/private/gpt-frameworks/llama_index/.venv/lib/python3.12/site-packages (from wandb<0.17.0,>=0.16.2->llama-index-callbacks-wandb) (6.0.0)\n",
      "Requirement already satisfied: sentry-sdk>=1.0.0 in /Users/teihiroki/Repository/private/gpt-frameworks/llama_index/.venv/lib/python3.12/site-packages (from wandb<0.17.0,>=0.16.2->llama-index-callbacks-wandb) (2.14.0)\n",
      "Requirement already satisfied: docker-pycreds>=0.4.0 in /Users/teihiroki/Repository/private/gpt-frameworks/llama_index/.venv/lib/python3.12/site-packages (from wandb<0.17.0,>=0.16.2->llama-index-callbacks-wandb) (0.4.0)\n",
      "Requirement already satisfied: setproctitle in /Users/teihiroki/Repository/private/gpt-frameworks/llama_index/.venv/lib/python3.12/site-packages (from wandb<0.17.0,>=0.16.2->llama-index-callbacks-wandb) (1.3.3)\n",
      "Requirement already satisfied: setuptools in /Users/teihiroki/Repository/private/gpt-frameworks/llama_index/.venv/lib/python3.12/site-packages (from wandb<0.17.0,>=0.16.2->llama-index-callbacks-wandb) (69.5.1)\n",
      "Requirement already satisfied: appdirs>=1.4.3 in /Users/teihiroki/Repository/private/gpt-frameworks/llama_index/.venv/lib/python3.12/site-packages (from wandb<0.17.0,>=0.16.2->llama-index-callbacks-wandb) (1.4.4)\n",
      "Requirement already satisfied: protobuf!=4.21.0,<5,>=3.19.0 in /Users/teihiroki/Repository/private/gpt-frameworks/llama_index/.venv/lib/python3.12/site-packages (from wandb<0.17.0,>=0.16.2->llama-index-callbacks-wandb) (4.25.5)\n",
      "Requirement already satisfied: aiohappyeyeballs>=2.3.0 in /Users/teihiroki/Repository/private/gpt-frameworks/llama_index/.venv/lib/python3.12/site-packages (from aiohttp<4.0.0,>=3.8.6->llama-index-core<0.12.0,>=0.11.0->llama-index-callbacks-wandb) (2.3.4)\n",
      "Requirement already satisfied: aiosignal>=1.1.2 in /Users/teihiroki/Repository/private/gpt-frameworks/llama_index/.venv/lib/python3.12/site-packages (from aiohttp<4.0.0,>=3.8.6->llama-index-core<0.12.0,>=0.11.0->llama-index-callbacks-wandb) (1.3.1)\n",
      "Requirement already satisfied: attrs>=17.3.0 in /Users/teihiroki/Repository/private/gpt-frameworks/llama_index/.venv/lib/python3.12/site-packages (from aiohttp<4.0.0,>=3.8.6->llama-index-core<0.12.0,>=0.11.0->llama-index-callbacks-wandb) (24.1.0)\n",
      "Requirement already satisfied: frozenlist>=1.1.1 in /Users/teihiroki/Repository/private/gpt-frameworks/llama_index/.venv/lib/python3.12/site-packages (from aiohttp<4.0.0,>=3.8.6->llama-index-core<0.12.0,>=0.11.0->llama-index-callbacks-wandb) (1.4.1)\n",
      "Requirement already satisfied: multidict<7.0,>=4.5 in /Users/teihiroki/Repository/private/gpt-frameworks/llama_index/.venv/lib/python3.12/site-packages (from aiohttp<4.0.0,>=3.8.6->llama-index-core<0.12.0,>=0.11.0->llama-index-callbacks-wandb) (6.0.5)\n",
      "Requirement already satisfied: yarl<2.0,>=1.0 in /Users/teihiroki/Repository/private/gpt-frameworks/llama_index/.venv/lib/python3.12/site-packages (from aiohttp<4.0.0,>=3.8.6->llama-index-core<0.12.0,>=0.11.0->llama-index-callbacks-wandb) (1.9.4)\n",
      "Requirement already satisfied: six>=1.4.0 in /Users/teihiroki/Repository/private/gpt-frameworks/llama_index/.venv/lib/python3.12/site-packages (from docker-pycreds>=0.4.0->wandb<0.17.0,>=0.16.2->llama-index-callbacks-wandb) (1.16.0)\n",
      "Requirement already satisfied: gitdb<5,>=4.0.1 in /Users/teihiroki/Repository/private/gpt-frameworks/llama_index/.venv/lib/python3.12/site-packages (from GitPython!=3.1.29,>=1.0.0->wandb<0.17.0,>=0.16.2->llama-index-callbacks-wandb) (4.0.11)\n",
      "Requirement already satisfied: joblib in /Users/teihiroki/Repository/private/gpt-frameworks/llama_index/.venv/lib/python3.12/site-packages (from nltk>3.8.1->llama-index-core<0.12.0,>=0.11.0->llama-index-callbacks-wandb) (1.4.2)\n",
      "Requirement already satisfied: regex>=2021.8.3 in /Users/teihiroki/Repository/private/gpt-frameworks/llama_index/.venv/lib/python3.12/site-packages (from nltk>3.8.1->llama-index-core<0.12.0,>=0.11.0->llama-index-callbacks-wandb) (2024.7.24)\n",
      "Requirement already satisfied: annotated-types>=0.4.0 in /Users/teihiroki/Repository/private/gpt-frameworks/llama_index/.venv/lib/python3.12/site-packages (from pydantic<3.0.0,>=2.7.0->llama-index-core<0.12.0,>=0.11.0->llama-index-callbacks-wandb) (0.7.0)\n",
      "Requirement already satisfied: pydantic-core==2.20.1 in /Users/teihiroki/Repository/private/gpt-frameworks/llama_index/.venv/lib/python3.12/site-packages (from pydantic<3.0.0,>=2.7.0->llama-index-core<0.12.0,>=0.11.0->llama-index-callbacks-wandb) (2.20.1)\n",
      "Requirement already satisfied: charset-normalizer<4,>=2 in /Users/teihiroki/Repository/private/gpt-frameworks/llama_index/.venv/lib/python3.12/site-packages (from requests>=2.31.0->llama-index-core<0.12.0,>=0.11.0->llama-index-callbacks-wandb) (3.3.2)\n",
      "Requirement already satisfied: idna<4,>=2.5 in /Users/teihiroki/Repository/private/gpt-frameworks/llama_index/.venv/lib/python3.12/site-packages (from requests>=2.31.0->llama-index-core<0.12.0,>=0.11.0->llama-index-callbacks-wandb) (3.7)\n",
      "Requirement already satisfied: urllib3<3,>=1.21.1 in /Users/teihiroki/Repository/private/gpt-frameworks/llama_index/.venv/lib/python3.12/site-packages (from requests>=2.31.0->llama-index-core<0.12.0,>=0.11.0->llama-index-callbacks-wandb) (2.2.2)\n",
      "Requirement already satisfied: certifi>=2017.4.17 in /Users/teihiroki/Repository/private/gpt-frameworks/llama_index/.venv/lib/python3.12/site-packages (from requests>=2.31.0->llama-index-core<0.12.0,>=0.11.0->llama-index-callbacks-wandb) (2024.7.4)\n",
      "Requirement already satisfied: greenlet!=0.4.17 in /Users/teihiroki/Repository/private/gpt-frameworks/llama_index/.venv/lib/python3.12/site-packages (from SQLAlchemy[asyncio]>=1.4.49->llama-index-core<0.12.0,>=0.11.0->llama-index-callbacks-wandb) (3.0.3)\n",
      "Requirement already satisfied: mypy-extensions>=0.3.0 in /Users/teihiroki/Repository/private/gpt-frameworks/llama_index/.venv/lib/python3.12/site-packages (from typing-inspect>=0.8.0->llama-index-core<0.12.0,>=0.11.0->llama-index-callbacks-wandb) (1.0.0)\n",
      "Requirement already satisfied: marshmallow<4.0.0,>=3.18.0 in /Users/teihiroki/Repository/private/gpt-frameworks/llama_index/.venv/lib/python3.12/site-packages (from dataclasses-json->llama-index-core<0.12.0,>=0.11.0->llama-index-callbacks-wandb) (3.21.3)\n",
      "Requirement already satisfied: anyio in /Users/teihiroki/Repository/private/gpt-frameworks/llama_index/.venv/lib/python3.12/site-packages (from httpx->llama-index-core<0.12.0,>=0.11.0->llama-index-callbacks-wandb) (4.4.0)\n",
      "Requirement already satisfied: httpcore==1.* in /Users/teihiroki/Repository/private/gpt-frameworks/llama_index/.venv/lib/python3.12/site-packages (from httpx->llama-index-core<0.12.0,>=0.11.0->llama-index-callbacks-wandb) (1.0.5)\n",
      "Requirement already satisfied: sniffio in /Users/teihiroki/Repository/private/gpt-frameworks/llama_index/.venv/lib/python3.12/site-packages (from httpx->llama-index-core<0.12.0,>=0.11.0->llama-index-callbacks-wandb) (1.3.1)\n",
      "Requirement already satisfied: h11<0.15,>=0.13 in /Users/teihiroki/Repository/private/gpt-frameworks/llama_index/.venv/lib/python3.12/site-packages (from httpcore==1.*->httpx->llama-index-core<0.12.0,>=0.11.0->llama-index-callbacks-wandb) (0.14.0)\n",
      "Requirement already satisfied: smmap<6,>=3.0.1 in /Users/teihiroki/Repository/private/gpt-frameworks/llama_index/.venv/lib/python3.12/site-packages (from gitdb<5,>=4.0.1->GitPython!=3.1.29,>=1.0.0->wandb<0.17.0,>=0.16.2->llama-index-callbacks-wandb) (5.0.1)\n",
      "Requirement already satisfied: packaging>=17.0 in /Users/teihiroki/Repository/private/gpt-frameworks/llama_index/.venv/lib/python3.12/site-packages (from marshmallow<4.0.0,>=3.18.0->dataclasses-json->llama-index-core<0.12.0,>=0.11.0->llama-index-callbacks-wandb) (24.1)\n",
      "Note: you may need to restart the kernel to use updated packages.\n"
     ]
    }
   ],
   "source": [
    "%pip install llama-index-callbacks-wandb"
   ]
  },
  {
   "cell_type": "code",
   "execution_count": 2,
   "metadata": {},
   "outputs": [],
   "source": [
    "from llama_index.core.callbacks import CallbackManager\n",
    "from llama_index.core.callbacks import LlamaDebugHandler\n",
    "from llama_index.callbacks.wandb import WandbCallbackHandler\n",
    "from llama_index.core import (\n",
    "    VectorStoreIndex,\n",
    "    SimpleDirectoryReader,\n",
    "    SimpleKeywordTableIndex,\n",
    "    StorageContext,\n",
    ")\n",
    "from llama_index.llms.openai import OpenAI"
   ]
  },
  {
   "cell_type": "code",
   "execution_count": 3,
   "metadata": {},
   "outputs": [],
   "source": [
    "from llama_index.core import Settings\n",
    "\n",
    "Settings.llm = OpenAI(model=\"gpt-4o\", temperature=0)"
   ]
  },
  {
   "cell_type": "code",
   "execution_count": 4,
   "metadata": {},
   "outputs": [
    {
     "name": "stderr",
     "output_type": "stream",
     "text": [
      "\u001b[34m\u001b[1mwandb\u001b[0m: Logging into wandb.ai. (Learn how to deploy a W&B server locally: https://wandb.me/wandb-server)\n",
      "\u001b[34m\u001b[1mwandb\u001b[0m: You can find your API key in your browser here: https://wandb.ai/authorize\n",
      "\u001b[34m\u001b[1mwandb\u001b[0m: Paste an API key from your profile and hit enter, or press ctrl+c to quit:"
     ]
    },
    {
     "name": "stdout",
     "output_type": "stream",
     "text": [
      "  ········\n"
     ]
    },
    {
     "name": "stderr",
     "output_type": "stream",
     "text": [
      "\u001b[34m\u001b[1mwandb\u001b[0m: Appending key for api.wandb.ai to your netrc file: /Users/teihiroki/.netrc\n",
      "\u001b[34m\u001b[1mwandb\u001b[0m: Streaming LlamaIndex events to W&B at https://wandb.ai/hirokiki18/llamaindex/runs/hp2036f0\n",
      "\u001b[34m\u001b[1mwandb\u001b[0m: `WandbCallbackHandler` is currently in beta.\n",
      "\u001b[34m\u001b[1mwandb\u001b[0m: Please report any issues to https://github.com/wandb/wandb/issues with the tag `llamaindex`.\n"
     ]
    }
   ],
   "source": [
    "\n",
    "llama_debug = LlamaDebugHandler(print_trace_on_end=True)\n",
    "\n",
    "# wandb.init args\n",
    "run_args = dict(\n",
    "    project=\"llamaindex\",\n",
    ")\n",
    "\n",
    "wandb_callback = WandbCallbackHandler(run_args=run_args)\n",
    "\n",
    "Settings.callback_manager = CallbackManager([llama_debug, wandb_callback])"
   ]
  },
  {
   "cell_type": "code",
   "execution_count": 6,
   "metadata": {},
   "outputs": [
    {
     "name": "stdout",
     "output_type": "stream",
     "text": [
      "The INTP character is known for being quiet and contemplative, constantly analyzing and thinking deeply. They enjoy delving into complex and abstract problems, showcasing a unique and logical thinking style. INTPs are passionate about improving existing systems and creating new logical models. They value precise communication, especially when discussing their areas of expertise. Additionally, they are calm in crises, but can appear arrogant due to their tendency to overlook mundane details.\n"
     ]
    }
   ],
   "source": [
    "import os\n",
    "file_path = os.path.join(os.getenv('PWD'), \"practice/query_engine/simple_query.ipynb\")\n",
    "\n",
    "%run $file_path"
   ]
  },
  {
   "cell_type": "code",
   "execution_count": 10,
   "metadata": {},
   "outputs": [],
   "source": [
    "wandb_callback.finish()"
   ]
  }
 ],
 "metadata": {
  "kernelspec": {
   "display_name": "Python 3 (ipykernel)",
   "language": "python",
   "name": "python3"
  },
  "language_info": {
   "codemirror_mode": {
    "name": "ipython",
    "version": 3
   },
   "file_extension": ".py",
   "mimetype": "text/x-python",
   "name": "python",
   "nbconvert_exporter": "python",
   "pygments_lexer": "ipython3",
   "version": "3.12.2"
  }
 },
 "nbformat": 4,
 "nbformat_minor": 4
}
