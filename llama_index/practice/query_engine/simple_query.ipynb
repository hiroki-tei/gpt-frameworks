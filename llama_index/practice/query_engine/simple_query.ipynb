{
 "cells": [
  {
   "cell_type": "code",
   "execution_count": 1,
   "id": "403aae2f-c539-4f93-8703-86b4ba1a1922",
   "metadata": {},
   "outputs": [],
   "source": [
    "import os\n",
    "from llama_index.core import VectorStoreIndex, SimpleDirectoryReader\n",
    "\n",
    "reader= SimpleDirectoryReader(f\"{os.getenv('PWD')}/data/interest/mbti\")"
   ]
  },
  {
   "cell_type": "code",
   "execution_count": 2,
   "id": "937c1f31-3e6c-4780-a20e-218668a2aec6",
   "metadata": {},
   "outputs": [],
   "source": [
    "documents = reader.load_data()"
   ]
  },
  {
   "cell_type": "code",
   "execution_count": 3,
   "id": "918c6bde-8530-4fdd-81ab-42e4eecdd4e0",
   "metadata": {},
   "outputs": [
    {
     "name": "stdout",
     "output_type": "stream",
     "text": [
      "The INTP character is known for being quiet and contemplative, constantly analyzing and thinking deeply. They enjoy delving into complex and abstract problems, showcasing a creative and logical thinking style. INTPs value knowledge and are often bookworms who take pride in their intelligence. They are passionate about improving existing systems and creating new logical models. Additionally, they excel in pinpointing contradictions in thinking and are skilled at precise communication, especially within their areas of expertise.\n"
     ]
    }
   ],
   "source": [
    "index = VectorStoreIndex.from_documents(documents)\n",
    "query_engine = index.as_query_engine()\n",
    "response = query_engine.query(\"what does INTP character like?\")\n",
    "print(response)"
   ]
  }
 ],
 "metadata": {
  "kernelspec": {
   "display_name": "Python 3 (ipykernel)",
   "language": "python",
   "name": "python3"
  }
 },
 "nbformat": 4,
 "nbformat_minor": 5
}
