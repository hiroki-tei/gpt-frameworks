{
 "cells": [
  {
   "cell_type": "code",
   "execution_count": null,
   "id": "403aae2f-c539-4f93-8703-86b4ba1a1922",
   "metadata": {},
   "outputs": [],
   "source": [
    "from llama_index.core import VectorStoreIndex, SimpleDirectoryReader\n",
    "reader= SimpleDirectoryReader(\"data\")"
   ]
  },
  {
   "cell_type": "code",
   "execution_count": null,
   "id": "e81bd0a8-57f8-4f7c-ab9a-c52c574e485b",
   "metadata": {},
   "outputs": [
    {
     "name": "stdout",
     "output_type": "stream",
     "text": [
      "<llama_index.core.readers.file.base.SimpleDirectoryReader object>\n"
     ]
    }
   ],
   "source": [
    "print(reader)"
   ]
  },
  {
   "cell_type": "code",
   "execution_count": null,
   "id": "937c1f31-3e6c-4780-a20e-218668a2aec6",
   "metadata": {},
   "outputs": [
    {
     "name": "stdout",
     "output_type": "stream",
     "text": [
      "[Document(id_='795dcf6c-7db3-449d-97a3-e349ec94ae90', embedding=None, metadata={'file_path': '/mnt/c/Users/hirokitei/Documents/mylab/gpt-frameworks/llama_index/data/sample.txt', 'file_name': 'sample.txt', 'file_type': 'text/plain', 'file_size': 0, 'creation_date': '2024-05-11', 'last_modified_date': '2024-05-11'}, excluded_embed_metadata_keys=['file_name', 'file_type', 'file_size', 'creation_date', 'last_modified_date', 'last_accessed_date'], excluded_llm_metadata_keys=['file_name', 'file_type', 'file_size', 'creation_date', 'last_modified_date', 'last_accessed_date'], relationships={}, text='', start_char_idx=None, end_char_idx=None, text_template='{metadata_str}\\n\\n{content}', metadata_template='{key}: {value}', metadata_seperator='\\n')]\n"
     ]
    }
   ],
   "source": [
    "doc = reader.load_data()\n",
    "print(doc)"
   ]
  },
  {
   "cell_type": "code",
   "execution_count": null,
   "id": "918c6bde-8530-4fdd-81ab-42e4eecdd4e0",
   "metadata": {},
   "outputs": [],
   "source": []
  }
 ],
 "metadata": {
  "kernelspec": {
   "display_name": "python3",
   "language": "python",
   "name": "python3"
  }
 },
 "nbformat": 4,
 "nbformat_minor": 5
}
