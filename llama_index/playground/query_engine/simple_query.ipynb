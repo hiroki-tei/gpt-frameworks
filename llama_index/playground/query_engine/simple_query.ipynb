{
 "cells": [
  {
   "cell_type": "code",
   "execution_count": 1,
   "id": "403aae2f-c539-4f93-8703-86b4ba1a1922",
   "metadata": {},
   "outputs": [],
   "source": [
    "from llama_index.core import VectorStoreIndex, SimpleDirectoryReader\n",
    "\n",
    "reader= SimpleDirectoryReader(\"data/interest/mbti\")"
   ]
  },
  {
   "cell_type": "code",
   "execution_count": 2,
   "id": "937c1f31-3e6c-4780-a20e-218668a2aec6",
   "metadata": {},
   "outputs": [],
   "source": [
    "documents = reader.load_data()"
   ]
  },
  {
   "cell_type": "code",
   "execution_count": 3,
   "id": "918c6bde-8530-4fdd-81ab-42e4eecdd4e0",
   "metadata": {},
   "outputs": [
    {
     "name": "stdout",
     "output_type": "stream",
     "text": [
      "The INTP character is known for being quiet and contemplative, constantly analyzing and thinking deeply. They enjoy delving into complex problems, seeking to understand the essence of things and coming up with innovative solutions. INTPs value knowledge and are often described as bookworms, with a strong desire to expand their intellectual abilities. They have a unique and logical way of thinking, excelling at deciphering abstract issues and challenging existing beliefs. INTPs are also known for their keen observation, precise communication style, and ability to identify inconsistencies in arguments. Despite their intellectual strengths, they may struggle with social interactions, expressing emotions verbally, and may unintentionally come across as arrogant due to their pursuit of perfection.\n"
     ]
    }
   ],
   "source": [
    "index = VectorStoreIndex.from_documents(documents)\n",
    "query_engine = index.as_query_engine()\n",
    "response = query_engine.query(\"what does INTP character like?\")\n",
    "print(response)"
   ]
  }
 ],
 "metadata": {
  "kernelspec": {
   "display_name": "Python 3 (ipykernel)",
   "language": "python",
   "name": "python3"
  },
  "language_info": {
   "codemirror_mode": {
    "name": "ipython",
    "version": 3
   },
   "file_extension": ".py",
   "mimetype": "text/x-python",
   "name": "python",
   "nbconvert_exporter": "python",
   "pygments_lexer": "ipython3",
   "version": "3.12.3"
  }
 },
 "nbformat": 4,
 "nbformat_minor": 5
}
