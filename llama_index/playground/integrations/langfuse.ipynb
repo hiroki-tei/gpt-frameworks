{
 "cells": [
  {
   "cell_type": "code",
   "execution_count": 1,
   "metadata": {},
   "outputs": [
    {
     "name": "stdout",
     "output_type": "stream",
     "text": [
      "Requirement already satisfied: langfuse in /Users/teihiroki/Repository/private/gpt-frameworks/llama_index/.venv/lib/python3.12/site-packages (2.39.2)\n",
      "Requirement already satisfied: anyio<5.0.0,>=4.4.0 in /Users/teihiroki/Repository/private/gpt-frameworks/llama_index/.venv/lib/python3.12/site-packages (from langfuse) (4.4.0)\n",
      "Requirement already satisfied: backoff>=1.10.0 in /Users/teihiroki/Repository/private/gpt-frameworks/llama_index/.venv/lib/python3.12/site-packages (from langfuse) (2.2.1)\n",
      "Requirement already satisfied: httpx<1.0,>=0.15.4 in /Users/teihiroki/Repository/private/gpt-frameworks/llama_index/.venv/lib/python3.12/site-packages (from langfuse) (0.27.0)\n",
      "Requirement already satisfied: idna<4.0,>=3.7 in /Users/teihiroki/Repository/private/gpt-frameworks/llama_index/.venv/lib/python3.12/site-packages (from langfuse) (3.7)\n",
      "Requirement already satisfied: packaging<24.0,>=23.2 in /Users/teihiroki/Repository/private/gpt-frameworks/llama_index/.venv/lib/python3.12/site-packages (from langfuse) (23.2)\n",
      "Requirement already satisfied: pydantic<3.0,>=1.10.7 in /Users/teihiroki/Repository/private/gpt-frameworks/llama_index/.venv/lib/python3.12/site-packages (from langfuse) (2.7.1)\n",
      "Requirement already satisfied: wrapt<2.0,>=1.14 in /Users/teihiroki/Repository/private/gpt-frameworks/llama_index/.venv/lib/python3.12/site-packages (from langfuse) (1.16.0)\n",
      "Requirement already satisfied: sniffio>=1.1 in /Users/teihiroki/Repository/private/gpt-frameworks/llama_index/.venv/lib/python3.12/site-packages (from anyio<5.0.0,>=4.4.0->langfuse) (1.3.1)\n",
      "Requirement already satisfied: certifi in /Users/teihiroki/Repository/private/gpt-frameworks/llama_index/.venv/lib/python3.12/site-packages (from httpx<1.0,>=0.15.4->langfuse) (2024.2.2)\n",
      "Requirement already satisfied: httpcore==1.* in /Users/teihiroki/Repository/private/gpt-frameworks/llama_index/.venv/lib/python3.12/site-packages (from httpx<1.0,>=0.15.4->langfuse) (1.0.5)\n",
      "Requirement already satisfied: h11<0.15,>=0.13 in /Users/teihiroki/Repository/private/gpt-frameworks/llama_index/.venv/lib/python3.12/site-packages (from httpcore==1.*->httpx<1.0,>=0.15.4->langfuse) (0.14.0)\n",
      "Requirement already satisfied: annotated-types>=0.4.0 in /Users/teihiroki/Repository/private/gpt-frameworks/llama_index/.venv/lib/python3.12/site-packages (from pydantic<3.0,>=1.10.7->langfuse) (0.6.0)\n",
      "Requirement already satisfied: pydantic-core==2.18.2 in /Users/teihiroki/Repository/private/gpt-frameworks/llama_index/.venv/lib/python3.12/site-packages (from pydantic<3.0,>=1.10.7->langfuse) (2.18.2)\n",
      "Requirement already satisfied: typing-extensions>=4.6.1 in /Users/teihiroki/Repository/private/gpt-frameworks/llama_index/.venv/lib/python3.12/site-packages (from pydantic<3.0,>=1.10.7->langfuse) (4.11.0)\n",
      "\n",
      "\u001b[1m[\u001b[0m\u001b[34;49mnotice\u001b[0m\u001b[1;39;49m]\u001b[0m\u001b[39;49m A new release of pip is available: \u001b[0m\u001b[31;49m24.0\u001b[0m\u001b[39;49m -> \u001b[0m\u001b[32;49m24.1.2\u001b[0m\n",
      "\u001b[1m[\u001b[0m\u001b[34;49mnotice\u001b[0m\u001b[1;39;49m]\u001b[0m\u001b[39;49m To update, run: \u001b[0m\u001b[32;49m/Users/teihiroki/Repository/private/gpt-frameworks/llama_index/.venv/bin/python -m pip install --upgrade pip\u001b[0m\n",
      "Note: you may need to restart the kernel to use updated packages.\n"
     ]
    }
   ],
   "source": [
    "%pip install langfuse\n",
    "\n",
    "from llama_index.core import Settings\n",
    "from llama_index.core.callbacks import CallbackManager\n",
    "from langfuse.llama_index import LlamaIndexCallbackHandler\n",
    "\n",
    "langfuse_callback_manager = LlamaIndexCallbackHandler()\n",
    "Settings.callback_manager = CallbackManager([langfuse_callback_manager])"
   ]
  },
  {
   "cell_type": "code",
   "execution_count": 3,
   "metadata": {},
   "outputs": [
    {
     "name": "stdout",
     "output_type": "stream",
     "text": [
      "Added user message to memory: who is the president of the United States?\n",
      "As of my last update in October 2021, the President of the United States is Joe Biden.\n"
     ]
    }
   ],
   "source": [
    "from llama_index.agent.openai import OpenAIAgent\n",
    "from llama_index.llms.openai import OpenAI\n",
    "\n",
    "# import and define tools\n",
    "\n",
    "# initialize llm\n",
    "llm = OpenAI(model=\"gpt-3.5-turbo-0613\")\n",
    "\n",
    "# initialize openai agent\n",
    "agent = OpenAIAgent.from_tools([], llm=llm, verbose=True)\n",
    "response = agent.chat(\"who is the president of the United States?\")\n",
    "print(response)\n"
   ]
  }
 ],
 "metadata": {
  "kernelspec": {
   "display_name": "Python 3 (ipykernel)",
   "language": "python",
   "name": "python3"
  },
  "language_info": {
   "codemirror_mode": {
    "name": "ipython",
    "version": 3
   },
   "file_extension": ".py",
   "mimetype": "text/x-python",
   "name": "python",
   "nbconvert_exporter": "python",
   "pygments_lexer": "ipython3",
   "version": "3.12.2"
  }
 },
 "nbformat": 4,
 "nbformat_minor": 2
}
