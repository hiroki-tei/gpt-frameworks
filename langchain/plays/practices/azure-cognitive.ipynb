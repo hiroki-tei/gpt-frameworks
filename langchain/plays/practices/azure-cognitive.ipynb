{
 "cells": [
  {
   "cell_type": "code",
   "execution_count": 2,
   "id": "edc9c6ab-121c-4d74-bd4f-3a3fc7ce7ce7",
   "metadata": {
    "tags": []
   },
   "outputs": [],
   "source": [
    "\"\"\"\n",
    "Try following features:\n",
    "\n",
    "Tools\n",
    "- AzureCognitiveServicesToolkit\n",
    "\"\"\"\n",
    "\n",
    "from langchain.agents.agent_toolkits import AzureCognitiveServicesToolkit\n",
    "from langchain.chat_models import ChatOpenAI\n",
    "from langchain.agents import initialize_agent, AgentType\n",
    "import os\n",
    "\n",
    "OPEN_AI_API_KEY=os.environ['OPENAI_API_KEY']\n",
    "toolkit = AzureCognitiveServicesToolkit()"
   ]
  },
  {
   "cell_type": "code",
   "execution_count": 3,
   "id": "ed76df95-8a92-4466-b840-22d170e73878",
   "metadata": {},
   "outputs": [],
   "source": [
    "llm = ChatOpenAI(temperature=0, model=\"gpt-3.5-turbo-16k\")\n",
    "agent = initialize_agent(\n",
    "    tools=toolkit.get_tools(),\n",
    "    llm=llm,\n",
    "    agent=AgentType.STRUCTURED_CHAT_ZERO_SHOT_REACT_DESCRIPTION,\n",
    "    verbose=True,\n",
    "    handle_parsing_errors=True,\n",
    ")"
   ]
  },
  {
   "cell_type": "code",
   "execution_count": 5,
   "id": "f3b8ccd4-84f5-43d1-9981-6d505e0882b0",
   "metadata": {},
   "outputs": [
    {
     "name": "stdout",
     "output_type": "stream",
     "text": [
      "\n",
      "\n",
      "\u001b[1m> Entering new AgentExecutor chain...\u001b[0m\n",
      "\u001b[32;1m\u001b[1;3m{\n",
      "  \"action\": \"azure_cognitive_services_form_recognizer\",\n",
      "  \"action_input\": {\n",
      "    \"query\": {\n",
      "      \"title\": \"Extract information from PDF image\",\n",
      "      \"type\": \"string\"\n",
      "    }\n",
      "  }\n",
      "}\u001b[0m\n",
      "\n",
      "\u001b[1m> Finished chain.\u001b[0m\n"
     ]
    },
    {
     "data": {
      "text/plain": [
       "'{\\n  \"action\": \"azure_cognitive_services_form_recognizer\",\\n  \"action_input\": {\\n    \"query\": {\\n      \"title\": \"Extract information from PDF image\",\\n      \"type\": \"string\"\\n    }\\n  }\\n}'"
      ]
     },
     "execution_count": 5,
     "metadata": {},
     "output_type": "execute_result"
    }
   ],
   "source": [
    "prompt = '''\n",
    "##Goal##\n",
    "PDF写真から各種情報を抽出し、下記のサンプルを参考に項目を整理して出力してください\n",
    "\n",
    "##output sample##\n",
    "{\n",
    "\"result\":{\n",
    "\"住所\":{\"都道府県\":\"東京都\",\"市区町村\":\"港区\",\"字\":\"南青山\",\"丁目以降\":\"9-9-9\"},\n",
    "\"地番\":[\"4-5\"],\n",
    "\"物件名\":\"東京タワー\",\n",
    "\"土地\":{\"地目\":\"宅地\",\"地積公簿\":\"100.00m2\",\"地積実測\":\"100.01m2\" },\n",
    "\"権利\":\"所有権\",\n",
    "\"現況\":\"未公開\",\n",
    "\"道路\":[\"南西側約27m公道\"],\n",
    "\"用途\":\"事務所・車庫・共同住宅\",\n",
    "\"建物\":{\"構造\":\"鉄骨\",\"階数\":5,\"築年月\":\"1990年6月\",\"総戸数\":10,\"延床面積\":\"1000.00m2\",\"専有面積\":\"1000.00m2\"},\n",
    "\"検査済証\":\"有\",\n",
    "\"間取り\":[\"3LDK\"],\n",
    "\"最寄り\":[{\"駅名\":\"京王線新宿駅\",\"徒歩時間\":\"5分\"}],\n",
    "\"家屋番号\":[\"1625-1\"]\n",
    "\"用途地域\":{\"種類\":[\"商業地域\"],\"建蔽率\":[\"80%\"],\"容積率\"[\"500%\"]},\n",
    "\"防火地域\":[\"防火地域\"],\n",
    "\"高度地区\":[\"なし\"],\n",
    "\"日影規制\":[\"4H-2.5H/4m\"],\n",
    "\"収入\":{\"金額\":10000000,\"内訳\":\"\"},\n",
    "\"支出\":{\"金額\":1000000,\"内訳\":\"\"},\n",
    "\"販売金額\":\"5000万円\",\n",
    "\"表面利回り\":\"5%\",\n",
    "\"ネット利回り\":\"4%\",\n",
    "\"路線価\":100000,\n",
    "\"reliability\":{\"住所\":\"10\",\"地番\":\"20\"}\n",
    "}\n",
    "}\n",
    "\n",
    "\n",
    "\n",
    "##input image URL##\n",
    "url_of_pdf_image\n",
    "'''\n",
    "# url_of_pdf_imageを物件資料がホストされたURLに変換する\n",
    "\n",
    "agent.run(\n",
    "    prompt\n",
    ")"
   ]
  },
  {
   "cell_type": "code",
   "execution_count": null,
   "id": "f77225a8-b946-45af-a43b-acf4b9d38877",
   "metadata": {},
   "outputs": [],
   "source": []
  }
 ],
 "metadata": {
  "kernelspec": {
   "display_name": "Python 3 (ipykernel)",
   "language": "python",
   "name": "python3"
  },
  "language_info": {
   "codemirror_mode": {
    "name": "ipython",
    "version": 3
   },
   "file_extension": ".py",
   "mimetype": "text/x-python",
   "name": "python",
   "nbconvert_exporter": "python",
   "pygments_lexer": "ipython3",
   "version": "3.11.3"
  }
 },
 "nbformat": 4,
 "nbformat_minor": 5
}
