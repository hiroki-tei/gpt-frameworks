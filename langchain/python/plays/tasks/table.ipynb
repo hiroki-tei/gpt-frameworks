{
 "cells": [
  {
   "cell_type": "code",
   "execution_count": 12,
   "id": "567a05f3-8533-4008-abcc-023c9fdfcf2c",
   "metadata": {
    "tags": []
   },
   "outputs": [
    {
     "name": "stdout",
     "output_type": "stream",
     "text": [
      "\n",
      "\n",
      "\u001b[1m> Entering new AgentExecutor chain...\u001b[0m\n"
     ]
    },
    {
     "name": "stderr",
     "output_type": "stream",
     "text": [
      "WARNING:root:Failed to persist run: HTTPConnectionPool(host='localhost', port=8000): Max retries exceeded with url: /chain-runs (Caused by NewConnectionError('<urllib3.connection.HTTPConnection object at 0x12ea4ba90>: Failed to establish a new connection: [Errno 61] Connection refused'))\n"
     ]
    },
    {
     "name": "stdout",
     "output_type": "stream",
     "text": [
      "\u001b[32;1m\u001b[1;3m{\n",
      "    \"action\": \"Final Answer\",\n",
      "    \"action_input\": \"701 A 105,000円\\n702 A 107,000円\\n703 C 105,000円\\n601 A 102,000円\\n602 A 104,000円\\n603 C 100,000円\\n501 A 100,000円\\n502 B 102,000円\\n503 C 100,000円\\n401 A 99,000円\\n402 B 101,000円\\n403 C 99,000円\\n301 A 100,000円\\n302 B 98,000円\\n303 C 97,000円\\n201 A 99,000円\\n202 B 97,000円\\n203 C 97,000円\\n404 D 96,000円\\n4050 D 800,000円\"\n",
      "}\u001b[0m\n",
      "\n",
      "\u001b[1m> Finished chain.\u001b[0m\n"
     ]
    },
    {
     "ename": "ValidationError",
     "evalue": "1 validation error for HumanMessage\ncontent\n  str type expected (type=type_error.str)",
     "output_type": "error",
     "traceback": [
      "\u001b[0;31m---------------------------------------------------------------------------\u001b[0m",
      "\u001b[0;31mValidationError\u001b[0m                           Traceback (most recent call last)",
      "Cell \u001b[0;32mIn[12], line 339\u001b[0m\n\u001b[1;32m    337\u001b[0m chat_message_prompt \u001b[38;5;241m=\u001b[39m ChatPromptTemplate\u001b[38;5;241m.\u001b[39mfrom_messages([system_message_prompt, human_dataA, human_dataB])\n\u001b[1;32m    338\u001b[0m chat \u001b[38;5;241m=\u001b[39m chat_message_prompt\u001b[38;5;241m.\u001b[39mformat_prompt(textA\u001b[38;5;241m=\u001b[39mprompt, textB\u001b[38;5;241m=\u001b[39mprompt2, textC\u001b[38;5;241m=\u001b[39mprompt3)\u001b[38;5;241m.\u001b[39mto_messages()\n\u001b[0;32m--> 339\u001b[0m \u001b[43magent_chain\u001b[49m\u001b[38;5;241;43m.\u001b[39;49m\u001b[43mrun\u001b[49m\u001b[43m(\u001b[49m\u001b[38;5;28;43minput\u001b[39;49m\u001b[38;5;241;43m=\u001b[39;49m\u001b[43mchat\u001b[49m\u001b[43m)\u001b[49m\n",
      "File \u001b[0;32m~/Library/Caches/pypoetry/virtualenvs/app-GJR7UvBg-py3.11/lib/python3.11/site-packages/langchain/chains/base.py:216\u001b[0m, in \u001b[0;36mChain.run\u001b[0;34m(self, *args, **kwargs)\u001b[0m\n\u001b[1;32m    213\u001b[0m     \u001b[38;5;28;01mreturn\u001b[39;00m \u001b[38;5;28mself\u001b[39m(args[\u001b[38;5;241m0\u001b[39m])[\u001b[38;5;28mself\u001b[39m\u001b[38;5;241m.\u001b[39moutput_keys[\u001b[38;5;241m0\u001b[39m]]\n\u001b[1;32m    215\u001b[0m \u001b[38;5;28;01mif\u001b[39;00m kwargs \u001b[38;5;129;01mand\u001b[39;00m \u001b[38;5;129;01mnot\u001b[39;00m args:\n\u001b[0;32m--> 216\u001b[0m     \u001b[38;5;28;01mreturn\u001b[39;00m \u001b[38;5;28;43mself\u001b[39;49m\u001b[43m(\u001b[49m\u001b[43mkwargs\u001b[49m\u001b[43m)\u001b[49m[\u001b[38;5;28mself\u001b[39m\u001b[38;5;241m.\u001b[39moutput_keys[\u001b[38;5;241m0\u001b[39m]]\n\u001b[1;32m    218\u001b[0m \u001b[38;5;28;01mraise\u001b[39;00m \u001b[38;5;167;01mValueError\u001b[39;00m(\n\u001b[1;32m    219\u001b[0m     \u001b[38;5;124mf\u001b[39m\u001b[38;5;124m\"\u001b[39m\u001b[38;5;124m`run` supported with either positional arguments or keyword arguments\u001b[39m\u001b[38;5;124m\"\u001b[39m\n\u001b[1;32m    220\u001b[0m     \u001b[38;5;124mf\u001b[39m\u001b[38;5;124m\"\u001b[39m\u001b[38;5;124m but not both. Got args: \u001b[39m\u001b[38;5;132;01m{\u001b[39;00margs\u001b[38;5;132;01m}\u001b[39;00m\u001b[38;5;124m and kwargs: \u001b[39m\u001b[38;5;132;01m{\u001b[39;00mkwargs\u001b[38;5;132;01m}\u001b[39;00m\u001b[38;5;124m.\u001b[39m\u001b[38;5;124m\"\u001b[39m\n\u001b[1;32m    221\u001b[0m )\n",
      "File \u001b[0;32m~/Library/Caches/pypoetry/virtualenvs/app-GJR7UvBg-py3.11/lib/python3.11/site-packages/langchain/chains/base.py:118\u001b[0m, in \u001b[0;36mChain.__call__\u001b[0;34m(self, inputs, return_only_outputs)\u001b[0m\n\u001b[1;32m    116\u001b[0m     \u001b[38;5;28;01mraise\u001b[39;00m e\n\u001b[1;32m    117\u001b[0m \u001b[38;5;28mself\u001b[39m\u001b[38;5;241m.\u001b[39mcallback_manager\u001b[38;5;241m.\u001b[39mon_chain_end(outputs, verbose\u001b[38;5;241m=\u001b[39m\u001b[38;5;28mself\u001b[39m\u001b[38;5;241m.\u001b[39mverbose)\n\u001b[0;32m--> 118\u001b[0m \u001b[38;5;28;01mreturn\u001b[39;00m \u001b[38;5;28;43mself\u001b[39;49m\u001b[38;5;241;43m.\u001b[39;49m\u001b[43mprep_outputs\u001b[49m\u001b[43m(\u001b[49m\u001b[43minputs\u001b[49m\u001b[43m,\u001b[49m\u001b[43m \u001b[49m\u001b[43moutputs\u001b[49m\u001b[43m,\u001b[49m\u001b[43m \u001b[49m\u001b[43mreturn_only_outputs\u001b[49m\u001b[43m)\u001b[49m\n",
      "File \u001b[0;32m~/Library/Caches/pypoetry/virtualenvs/app-GJR7UvBg-py3.11/lib/python3.11/site-packages/langchain/chains/base.py:170\u001b[0m, in \u001b[0;36mChain.prep_outputs\u001b[0;34m(self, inputs, outputs, return_only_outputs)\u001b[0m\n\u001b[1;32m    168\u001b[0m \u001b[38;5;28mself\u001b[39m\u001b[38;5;241m.\u001b[39m_validate_outputs(outputs)\n\u001b[1;32m    169\u001b[0m \u001b[38;5;28;01mif\u001b[39;00m \u001b[38;5;28mself\u001b[39m\u001b[38;5;241m.\u001b[39mmemory \u001b[38;5;129;01mis\u001b[39;00m \u001b[38;5;129;01mnot\u001b[39;00m \u001b[38;5;28;01mNone\u001b[39;00m:\n\u001b[0;32m--> 170\u001b[0m     \u001b[38;5;28;43mself\u001b[39;49m\u001b[38;5;241;43m.\u001b[39;49m\u001b[43mmemory\u001b[49m\u001b[38;5;241;43m.\u001b[39;49m\u001b[43msave_context\u001b[49m\u001b[43m(\u001b[49m\u001b[43minputs\u001b[49m\u001b[43m,\u001b[49m\u001b[43m \u001b[49m\u001b[43moutputs\u001b[49m\u001b[43m)\u001b[49m\n\u001b[1;32m    171\u001b[0m \u001b[38;5;28;01mif\u001b[39;00m return_only_outputs:\n\u001b[1;32m    172\u001b[0m     \u001b[38;5;28;01mreturn\u001b[39;00m outputs\n",
      "File \u001b[0;32m~/Library/Caches/pypoetry/virtualenvs/app-GJR7UvBg-py3.11/lib/python3.11/site-packages/langchain/memory/chat_memory.py:35\u001b[0m, in \u001b[0;36mBaseChatMemory.save_context\u001b[0;34m(self, inputs, outputs)\u001b[0m\n\u001b[1;32m     33\u001b[0m \u001b[38;5;250m\u001b[39m\u001b[38;5;124;03m\"\"\"Save context from this conversation to buffer.\"\"\"\u001b[39;00m\n\u001b[1;32m     34\u001b[0m input_str, output_str \u001b[38;5;241m=\u001b[39m \u001b[38;5;28mself\u001b[39m\u001b[38;5;241m.\u001b[39m_get_input_output(inputs, outputs)\n\u001b[0;32m---> 35\u001b[0m \u001b[38;5;28;43mself\u001b[39;49m\u001b[38;5;241;43m.\u001b[39;49m\u001b[43mchat_memory\u001b[49m\u001b[38;5;241;43m.\u001b[39;49m\u001b[43madd_user_message\u001b[49m\u001b[43m(\u001b[49m\u001b[43minput_str\u001b[49m\u001b[43m)\u001b[49m\n\u001b[1;32m     36\u001b[0m \u001b[38;5;28mself\u001b[39m\u001b[38;5;241m.\u001b[39mchat_memory\u001b[38;5;241m.\u001b[39madd_ai_message(output_str)\n",
      "File \u001b[0;32m~/Library/Caches/pypoetry/virtualenvs/app-GJR7UvBg-py3.11/lib/python3.11/site-packages/langchain/memory/chat_message_histories/in_memory.py:17\u001b[0m, in \u001b[0;36mChatMessageHistory.add_user_message\u001b[0;34m(self, message)\u001b[0m\n\u001b[1;32m     16\u001b[0m \u001b[38;5;28;01mdef\u001b[39;00m \u001b[38;5;21madd_user_message\u001b[39m(\u001b[38;5;28mself\u001b[39m, message: \u001b[38;5;28mstr\u001b[39m) \u001b[38;5;241m-\u001b[39m\u001b[38;5;241m>\u001b[39m \u001b[38;5;28;01mNone\u001b[39;00m:\n\u001b[0;32m---> 17\u001b[0m     \u001b[38;5;28mself\u001b[39m\u001b[38;5;241m.\u001b[39mmessages\u001b[38;5;241m.\u001b[39mappend(\u001b[43mHumanMessage\u001b[49m\u001b[43m(\u001b[49m\u001b[43mcontent\u001b[49m\u001b[38;5;241;43m=\u001b[39;49m\u001b[43mmessage\u001b[49m\u001b[43m)\u001b[49m)\n",
      "File \u001b[0;32m~/Library/Caches/pypoetry/virtualenvs/app-GJR7UvBg-py3.11/lib/python3.11/site-packages/pydantic/main.py:341\u001b[0m, in \u001b[0;36mpydantic.main.BaseModel.__init__\u001b[0;34m()\u001b[0m\n",
      "\u001b[0;31mValidationError\u001b[0m: 1 validation error for HumanMessage\ncontent\n  str type expected (type=type_error.str)"
     ]
    }
   ],
   "source": [
    "\"\"\"\n",
    "goal:\n",
    "- extract values in table format on PDF\n",
    "\n",
    "context:\n",
    "- string datas are fetched by Azure DocumentAI OCR with table format mode\n",
    "\"\"\"\n",
    "\n",
    "import os\n",
    "os.environ[\"LANGCHAIN_HANDLER\"] = \"langchain\"\n",
    "from langchain.agents import Tool, load_tools\n",
    "from langchain.memory import ConversationBufferMemory\n",
    "from langchain.chat_models import ChatOpenAI\n",
    "from langchain.utilities import SerpAPIWrapper\n",
    "from langchain.agents import initialize_agent\n",
    "from langchain.agents import AgentType\n",
    "from langchain.prompts import (\n",
    "    ChatPromptTemplate,\n",
    "    SystemMessagePromptTemplate,\n",
    "    HumanMessagePromptTemplate\n",
    ")\n",
    "\n",
    "\n",
    "\n",
    "\n",
    "search = SerpAPIWrapper()\n",
    "tools = [\n",
    "    Tool(\n",
    "        name = \"Current Search\",\n",
    "        func=search.run,\n",
    "        description=\"useful for when you need to answer questions about current events or the current state of the world. the input to this should be a single search term.\"\n",
    "    ),\n",
    "]\n",
    "\n",
    "\n",
    "memory = ConversationBufferMemory(memory_key=\"chat_history\", return_messages=True)\n",
    "llm=ChatOpenAI(temperature=0)\n",
    "#tools = load_tools([\"human\"])\n",
    "#agent_chain = initialize_agent( tools, llm, agent=AgentType.CHAT_CONVERSATIONAL_REACT_DESCRIPTION, verbose=True, memory=memory)\n",
    "agent_chain = initialize_agent([], llm, agent=AgentType.CHAT_CONVERSATIONAL_REACT_DESCRIPTION, verbose=True, memory=memory)\n",
    "\n",
    "prompt = \"\"\"\n",
    "これから、ある物件資料を渡します。\n",
    "物件の住所を抽出してください\n",
    "\"\"\"\n",
    "prompt = \"\"\"\n",
    "##背景##\n",
    "これから、ある物件資料をOCRスキャンして得られたテーブルデータと、物件全般データを渡します。\n",
    "\n",
    "\n",
    "##プロンプト##\n",
    "この物件のすべての部屋番号と、各部屋の賃料を出力してください。\n",
    "\"\"\"\n",
    "\n",
    "\n",
    "\n",
    "prompt2 = \"\"\"\n",
    "--物件全般データ--\n",
    "FOR RENT 賃貸マンション\n",
    "新築\n",
    "1\n",
    ".\n",
    "QUALITAS押上\n",
    "Campaign\n",
    "フリーレント 2 ヶ月\n",
    "※7月末迄の申込に限る\n",
    "敷金0ヶ月 + 礼金0ヶ月 2人入居可能 !!\n",
    "東京メトロ半蔵門線 「押上」駅 徒歩 5 分\n",
    "ペット飼育可 !!\n",
    "一\n",
    "OUTLINE\n",
    "物件名\n",
    "QUALITAS押上\n",
    "住所\n",
    "東京都墨田区横川3丁目11-7\n",
    "構造/規模\n",
    "鉄筋コンクリート造 地上7階建\n",
    "総戸数\n",
    "22F\n",
    "築年月\n",
    "2022年6月末\n",
    "賃貸条件\n",
    "賃料\n",
    "別紙を参照ください。\n",
    "管理費\n",
    "15,000円\n",
    "敷金\n",
    "0ヶ月\n",
    "礼金\n",
    "0ヶ月\n",
    "更新料\n",
    "新賃料の1ヶ月分\n",
    "契約期間\n",
    "普通賃貸借契約2年\n",
    "保険\n",
    "賃貸住宅入居者総合保険(2年毎):20,000円\n",
    "保証会社\n",
    "エポス 初回保証料40% 1年毎更新料なし 月額保証料800円 エアライフ 初回保証料50%1年毎更新料なし 月額保証料940円 一 初回保証料50%1年每更新料10,000円\n",
    "解約予告\n",
    "2ヶ月前通告 ※法人契約の場合のみ1ヶ月前通告\n",
    "その他\n",
    "【初回のみ】 24時間緊急駆けつけサポート加入必須 22,000円(税込)\n",
    "契約事務手数料:11,000円(税込)\n",
    "ペット飼育時:【小型犬】敷金1ヶ月積増【猫】敷金2ヶ月積増\n",
    "違約金:6ヶ月未満解約時2ヶ月分、6ヶ月以上1年未満解約時1ヶ月分\n",
    "インターネット:使用料無料[ファイバーゲート] ※Wi-Fi対応\n",
    "退去時ルームクリーニング費用:55,000円(税込)\n",
    "駐輪場(22台):330円/月(税込)\n",
    "バイク置場(4台):5,500円/月(税込)、敷金:1ヶ月\n",
    "■都営浅草線「押上」駅 徒歩7分\n",
    "東武スカイツリーライン「押上」駅 徒歩7分\n",
    "■東京メトロ半蔵門線「錦糸町」駅 徒歩11分\n",
    "EQUIPMENT\n",
    "BS/CS\n",
    ".\n",
    "使用料無料 | インターネット\n",
    "成約賃料:9.4万円\n",
    "成約年月日:令和 4年 7月 5日\n",
    "新築\n",
    "QUALITAS押上 図面· 賃料表\n",
    "号室\n",
    "タイプ\n",
    "A\n",
    "TYPE\n",
    "←\n",
    "VR内見用QRコード 是非お読み取りください!\n",
    "1,650\n",
    "700\n",
    "050\n",
    "一\n",
    "B TYPE\n",
    "月額賃料 (別途管理費)\n",
    "専有部面積 バルコニー面積\n",
    "管理費:15,000円\n",
    "1 K 25.28m ■専有面積/25.28ml(約7.64年) ■バルコニー面積/3.95ml(約1.19年)\n",
    "7F\n",
    "701\n",
    "A\n",
    "702 |\n",
    "B\n",
    "703 C\n",
    "105,000\n",
    "107,000\n",
    "105,000\n",
    "25.28 3.95\n",
    "25.30 6.05\n",
    "B\n",
    "25.25 5.05\n",
    "6F\n",
    "601\n",
    "A\n",
    "602\n",
    "603\n",
    "C\n",
    "102,000\n",
    "104,000\n",
    "10\n",
    "25.28 3.95\n",
    "25.30 6.05\n",
    "25.25 5.05\n",
    "5F\n",
    "501\n",
    "A\n",
    "502\n",
    "B\n",
    "503\n",
    "100,000\n",
    "102,000\n",
    "100,000\n",
    "25.28 3.95\n",
    "25.30 6.05\n",
    "25.25 5.05\n",
    "C\n",
    "4F\n",
    "401\n",
    "A\n",
    "402\n",
    "B\n",
    "403\n",
    "99,000\n",
    "101,000\n",
    "99,000\n",
    "25.28 3.95\n",
    "25.30 6.05\n",
    "25.25 5.05\n",
    "00\n",
    "3F\n",
    "301\n",
    "A\n",
    "302\n",
    "B\n",
    "303\n",
    "100,000\n",
    "98,000\n",
    "25.28 3.95\n",
    "25.30 6.05\n",
    "25.25 5.05\n",
    "2F\n",
    "201\n",
    "A\n",
    "202\n",
    "B\n",
    "203\n",
    "C\n",
    "97,000\n",
    "99,000\n",
    "97,000\n",
    "25.28 3.95\n",
    "25.30 6.05\n",
    "25.25 5.05\n",
    "504 D\n",
    "850\n",
    "3,650\n",
    "下足入\n",
    "01\n",
    "LI\n",
    "パウダー\n",
    "Jant\n",
    "部下\n",
    "1\n",
    "P'S\n",
    "M\n",
    "D\n",
    "i\n",
    "約8.0帖\n",
    ".\n",
    "1.360\n",
    "1 K 25.30m\n",
    "■専有面積/25.30ml(約7.65坪) ■バルコニー面積/6.05ml(約1.83坪)\n",
    "800\n",
    "3.200\n",
    "1.980\n",
    "2.100\n",
    "シ\n",
    "メイ\n",
    "D\n",
    "--\n",
    "L\n",
    "2.650\n",
    "O\n",
    "1\n",
    "Lg\n",
    "!\n",
    "5.000\n",
    "D\n",
    "2 900\n",
    "約8.0帖\n",
    "室内物干\n",
    "1.330\n",
    "- - - -\n",
    "97,000\n",
    "25.72 4.10\n",
    "404 D 96,000\n",
    "1,000\n",
    "25.72 4.10 b. 304 95,000\n",
    "C TYPE\n",
    "25.72 4.10 204\n",
    "00\n",
    "1 K 25.25m ■専有面積/25.25ml(約7.63年) ■バルコニー面積/5.05ml(約1.52年)\n",
    "25.72 4.10\n",
    "駐輪場·バイク置場·エントランスホール· EVホール·ゴミ置場·管理室·風除室\n",
    "1F\n",
    "1,300\n",
    "1.420\n",
    "室内物干\n",
    "AC\n",
    "-----\n",
    "---\n",
    "1\n",
    "バルコニー\n",
    "3.950\n",
    "1\n",
    "2350\n",
    "2,700\n",
    "M\n",
    "N LY\n",
    "下足\n",
    "O\n",
    "約8.5帖\n",
    "Y\n",
    "1.020\n",
    "国\n",
    "T\n",
    "000'T\n",
    "1.000\n",
    "バルコニー\n",
    "1.000\n",
    "4050\n",
    "D TYPE\n",
    "バルコニー幅6m以上 !!\n",
    "1 K 25.72m ■専有面積/25.72ml(約7.78年) ■バルコニー面積/4.10ml(約1.24坪)\n",
    "800\n",
    "000\n",
    "5.200\n",
    "T\n",
    "T\n",
    "1,000\n",
    "5 000\n",
    "厂 100\n",
    "MB\n",
    "100 800\n",
    "7\n",
    "-\n",
    "下記\n",
    "コ\n",
    "VER\n",
    "廊下\n",
    "西側 東側\n",
    "1,260\n",
    "1.000\n",
    "BI\n",
    "UE\n",
    "クローゼリー\n",
    "室内物干\n",
    ".\n",
    "1.000\n",
    "1.410\n",
    "1290\n",
    "DE\n",
    "91\n",
    "K1\n",
    "D\n",
    "FJ8.00\n",
    "15バルコニー\n",
    "4.100\n",
    "GLOBAL LINK MANAGEMENT\n",
    "L\n",
    "1\n",
    "1.000\n",
    "N :selected: :unselected: :selected: :unselected:\n",
    "\"\"\"\n",
    "\n",
    "prompt3 = \"\"\"\n",
    "--賃料テーブルデータ--\n",
    "[\n",
    "    {\"content\":\"7F\",\"row\":0,\"col\":0},\n",
    "    {\"content\":\"701\",\"row\":0,\"col\":1},\n",
    "    {\"content\":\"A\",\"row\":0,\"col\":2},\n",
    "    {\"content\":\"702 |\",\"row\":0,\"col\":3},\n",
    "]\n",
    "\"\"\"\n",
    "\n",
    "system_message_prompt = HumanMessagePromptTemplate.from_template(\"{textA}\")\n",
    "human_dataA = HumanMessagePromptTemplate.from_template(\"{textB}\")\n",
    "human_dataB = HumanMessagePromptTemplate.from_template(\"{textC}\")\n",
    "chat_message_prompt = ChatPromptTemplate.from_messages([system_message_prompt, human_dataA, human_dataB])\n",
    "chat = chat_message_prompt.format_prompt(textA=prompt, textB=prompt2, textC=prompt3).to_messages()\n",
    "agent_chain.run(input=chat)\n"
   ]
  },
  {
   "cell_type": "code",
   "execution_count": 13,
   "id": "63b8c214-efaa-4e57-966b-f7be250e9a23",
   "metadata": {},
   "outputs": [
    {
     "name": "stdout",
     "output_type": "stream",
     "text": [
      "\n",
      "\n",
      "\u001b[1m> Entering new AgentExecutor chain...\u001b[0m\n"
     ]
    },
    {
     "name": "stderr",
     "output_type": "stream",
     "text": [
      "WARNING:root:Failed to persist run: HTTPConnectionPool(host='localhost', port=8000): Max retries exceeded with url: /chain-runs (Caused by NewConnectionError('<urllib3.connection.HTTPConnection object at 0x12eb32590>: Failed to establish a new connection: [Errno 61] Connection refused'))\n"
     ]
    },
    {
     "name": "stdout",
     "output_type": "stream",
     "text": [
      "\u001b[32;1m\u001b[1;3m{\n",
      "    \"action\": \"Final Answer\",\n",
      "    \"action_input\": \"はい、この物件にはバルコニーがあります。\"\n",
      "}\u001b[0m\n",
      "\n",
      "\u001b[1m> Finished chain.\u001b[0m\n"
     ]
    },
    {
     "data": {
      "text/plain": [
       "'はい、この物件にはバルコニーがあります。'"
      ]
     },
     "execution_count": 13,
     "metadata": {},
     "output_type": "execute_result"
    }
   ],
   "source": [
    "agent_chain.run(input=\"この物件にバルコニーはありますか？\")"
   ]
  },
  {
   "cell_type": "code",
   "execution_count": 14,
   "id": "975aed22-f653-4b82-99c0-31dde60236ca",
   "metadata": {},
   "outputs": [
    {
     "name": "stdout",
     "output_type": "stream",
     "text": [
      "\n",
      "\n",
      "\u001b[1m> Entering new AgentExecutor chain...\u001b[0m\n"
     ]
    },
    {
     "name": "stderr",
     "output_type": "stream",
     "text": [
      "WARNING:root:Failed to persist run: HTTPConnectionPool(host='localhost', port=8000): Max retries exceeded with url: /chain-runs (Caused by NewConnectionError('<urllib3.connection.HTTPConnection object at 0x127f79810>: Failed to establish a new connection: [Errno 61] Connection refused'))\n"
     ]
    },
    {
     "name": "stdout",
     "output_type": "stream",
     "text": [
      "\u001b[32;1m\u001b[1;3m```json\n",
      "{\n",
      "    \"action\": \"Final Answer\",\n",
      "    \"action_input\": \"ユーザーが最初に尋ねた質問には、バルコニーがあるかどうかという問いが含まれていたため、私はその質問に答えるためにバルコニーがあるかどうかを確認しました。\"\n",
      "}\n",
      "```\u001b[0m\n",
      "\n",
      "\u001b[1m> Finished chain.\u001b[0m\n"
     ]
    },
    {
     "data": {
      "text/plain": [
       "'ユーザーが最初に尋ねた質問には、バルコニーがあるかどうかという問いが含まれていたため、私はその質問に答えるためにバルコニーがあるかどうかを確認しました。'"
      ]
     },
     "execution_count": 14,
     "metadata": {},
     "output_type": "execute_result"
    }
   ],
   "source": [
    "agent_chain.run(input=\"なぜバルコニーがあると考えましたか？\")"
   ]
  },
  {
   "cell_type": "code",
   "execution_count": 15,
   "id": "abdc859d-54cc-412c-9024-cd960545bd44",
   "metadata": {},
   "outputs": [
    {
     "name": "stdout",
     "output_type": "stream",
     "text": [
      "\n",
      "\n",
      "\u001b[1m> Entering new AgentExecutor chain...\u001b[0m\n"
     ]
    },
    {
     "name": "stderr",
     "output_type": "stream",
     "text": [
      "WARNING:root:Failed to persist run: HTTPConnectionPool(host='localhost', port=8000): Max retries exceeded with url: /chain-runs (Caused by NewConnectionError('<urllib3.connection.HTTPConnection object at 0x12eb46310>: Failed to establish a new connection: [Errno 61] Connection refused'))\n"
     ]
    },
    {
     "name": "stdout",
     "output_type": "stream",
     "text": [
      "\u001b[32;1m\u001b[1;3m```json\n",
      "{\n",
      "    \"action\": \"Final Answer\",\n",
      "    \"action_input\": \"申し訳ありませんが、私は先程の回答に誤りがありました。私はバルコニーがあるかどうかを確認するために、物件の説明文や写真などの情報を見る必要があります。ユーザーが提供した情報にはバルコニーがあるという明確な言及はありませんでした。お詫び申し上げます。\"\n",
      "}\n",
      "```\u001b[0m\n",
      "\n",
      "\u001b[1m> Finished chain.\u001b[0m\n"
     ]
    },
    {
     "data": {
      "text/plain": [
       "'申し訳ありませんが、私は先程の回答に誤りがありました。私はバルコニーがあるかどうかを確認するために、物件の説明文や写真などの情報を見る必要があります。ユーザーが提供した情報にはバルコニーがあるという明確な言及はありませんでした。お詫び申し上げます。'"
      ]
     },
     "execution_count": 15,
     "metadata": {},
     "output_type": "execute_result"
    }
   ],
   "source": [
    "agent_chain.run(input=\"いえ、そうではなく、資料中のどんな文字列を元に、バルコニーがあるという判断をしましたか？\")"
   ]
  },
  {
   "cell_type": "code",
   "execution_count": 16,
   "id": "b48f5c22-29e4-41c8-99be-2bb1feb999b8",
   "metadata": {
    "tags": []
   },
   "outputs": [
    {
     "name": "stdout",
     "output_type": "stream",
     "text": [
      "\n",
      "\n",
      "\u001b[1m> Entering new AgentExecutor chain...\u001b[0m\n",
      "\u001b[32;1m\u001b[1;3m```json\n",
      "{\n",
      "    \"action\": \"Use Google Maps\",\n",
      "    \"action_input\": \"この物件の住所\"\n",
      "}\n",
      "```\u001b[0m\n",
      "Observation: Use Google Maps is not a valid tool, try another one.\n",
      "Thought:"
     ]
    },
    {
     "name": "stderr",
     "output_type": "stream",
     "text": [
      "WARNING:root:Failed to persist run: HTTPConnectionPool(host='localhost', port=8000): Max retries exceeded with url: /chain-runs (Caused by NewConnectionError('<urllib3.connection.HTTPConnection object at 0x12e9cf4d0>: Failed to establish a new connection: [Errno 61] Connection refused'))\n"
     ]
    },
    {
     "name": "stdout",
     "output_type": "stream",
     "text": [
      "\u001b[32;1m\u001b[1;3mI apologize for the confusion in my previous response. Here is a corrected response:\n",
      "\n",
      "```json\n",
      "{\n",
      "    \"action\": \"Final Answer\",\n",
      "    \"action_input\": \"申し訳ありませんが、私は物件の住所を特定するためのツールを使用する必要があります。Googleマップなどのツールを使用して、物件の住所を特定することができます。\"\n",
      "}\n",
      "```\u001b[0m\n",
      "\n",
      "\u001b[1m> Finished chain.\u001b[0m\n"
     ]
    },
    {
     "data": {
      "text/plain": [
       "'申し訳ありませんが、私は物件の住所を特定するためのツールを使用する必要があります。Googleマップなどのツールを使用して、物件の住所を特定することができます。'"
      ]
     },
     "execution_count": 16,
     "metadata": {},
     "output_type": "execute_result"
    }
   ],
   "source": [
    "agent_chain.run(input=\"では、この物件の住所を教えて下さい\")"
   ]
  }
 ],
 "metadata": {
  "kernelspec": {
   "display_name": "Python 3 (ipykernel)",
   "language": "python",
   "name": "python3"
  },
  "language_info": {
   "codemirror_mode": {
    "name": "ipython",
    "version": 3
   },
   "file_extension": ".py",
   "mimetype": "text/x-python",
   "name": "python",
   "nbconvert_exporter": "python",
   "pygments_lexer": "ipython3",
   "version": "3.11.3"
  }
 },
 "nbformat": 4,
 "nbformat_minor": 5
}
